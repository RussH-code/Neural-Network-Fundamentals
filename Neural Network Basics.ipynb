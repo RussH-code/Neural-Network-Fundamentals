{
 "cells": [
  {
   "cell_type": "markdown",
   "id": "4c4e283e",
   "metadata": {},
   "source": [
    "# Neural Network"
   ]
  },
  {
   "cell_type": "markdown",
   "id": "b9b612e5-1444-4c86-a94d-9756f0a87139",
   "metadata": {},
   "source": [
    "In this notebook we will take a look at the basics of training a neural network. Neural network can handle a range of tasks, from time series forecasting to facial detection. Here we will look at two basic use case - regression and classification to look at how neural network works on a fundamental level. We will be using tensorflow library to build and train neural networks."
   ]
  },
  {
   "cell_type": "markdown",
   "id": "2d09e9ed-86a3-43dc-b05e-07cf3dda9246",
   "metadata": {},
   "source": [
    "## 1. Building the simpliest neural network"
   ]
  },
  {
   "cell_type": "markdown",
   "id": "ca89eeaa-d1dc-4967-b710-e30e8f65b051",
   "metadata": {},
   "source": [
    "### Import libraries and build test data"
   ]
  },
  {
   "cell_type": "code",
   "execution_count": 13,
   "id": "4adab0cd",
   "metadata": {},
   "outputs": [],
   "source": [
    "import tensorflow as tf\n",
    "from tensorflow import keras\n",
    "import numpy as np\n",
    "import pandas as pd"
   ]
  },
  {
   "cell_type": "code",
   "execution_count": 14,
   "id": "a637b5e0",
   "metadata": {},
   "outputs": [],
   "source": [
    "X = np.array([-7, -4, -1, 2, 5, 8, 11, 14], dtype='float32')\n",
    "y = X + 10"
   ]
  },
  {
   "cell_type": "code",
   "execution_count": 15,
   "id": "5e65765a",
   "metadata": {},
   "outputs": [
    {
     "data": {
      "text/plain": [
       "(array([-7., -4., -1.,  2.,  5.,  8., 11., 14.], dtype=float32),\n",
       " array([ 3.,  6.,  9., 12., 15., 18., 21., 24.], dtype=float32))"
      ]
     },
     "execution_count": 15,
     "metadata": {},
     "output_type": "execute_result"
    }
   ],
   "source": [
    "X, y"
   ]
  },
  {
   "cell_type": "markdown",
   "id": "8f799fe9-ba60-4244-b146-d013d33de1ba",
   "metadata": {},
   "source": [
    "### Training a basic neural network has three steps\n",
    "\n",
    "1. Build the neural network model and specify the number of layers, types of layers and number of nodes in the layers\n",
    "2. Compile the model and specify the loss function, the optimizer and the metrics to display. As in other ML algorithms, when training a model, we are trying to minimize the loss function, and we do so with the optimizer (such as stochastic gradient descent (SGD)). Metrics is a way we measure the performance of the model.\n",
    "3. Fit the model to the data and specify the epochs. The epoch is the number of iterations to train the model. Alogrithms like stochastic gradient descent are non-deterministic, so we have to specify a point to stop the training. "
   ]
  },
  {
   "cell_type": "code",
   "execution_count": 16,
   "id": "f3afa5f5",
   "metadata": {},
   "outputs": [
    {
     "name": "stdout",
     "output_type": "stream",
     "text": [
      "Epoch 1/100\n",
      "1/1 [==============================] - 0s 298ms/step - loss: 365.5823 - mse: 365.5823\n",
      "Epoch 2/100\n",
      "1/1 [==============================] - 0s 2ms/step - loss: 85.7904 - mse: 85.7904\n",
      "Epoch 3/100\n",
      "1/1 [==============================] - 0s 2ms/step - loss: 72.9801 - mse: 72.9801\n",
      "Epoch 4/100\n",
      "1/1 [==============================] - 0s 2ms/step - loss: 70.3069 - mse: 70.3069\n",
      "Epoch 5/100\n",
      "1/1 [==============================] - 0s 2ms/step - loss: 68.0847 - mse: 68.0847\n",
      "Epoch 6/100\n",
      "1/1 [==============================] - 0s 2ms/step - loss: 65.9460 - mse: 65.9460\n",
      "Epoch 7/100\n",
      "1/1 [==============================] - 0s 1ms/step - loss: 63.8751 - mse: 63.8751\n",
      "Epoch 8/100\n",
      "1/1 [==============================] - 0s 2ms/step - loss: 61.8692 - mse: 61.8692\n",
      "Epoch 9/100\n",
      "1/1 [==============================] - 0s 2ms/step - loss: 59.9263 - mse: 59.9263\n",
      "Epoch 10/100\n",
      "1/1 [==============================] - 0s 2ms/step - loss: 58.0445 - mse: 58.0445\n",
      "Epoch 11/100\n",
      "1/1 [==============================] - 0s 2ms/step - loss: 56.2217 - mse: 56.2217\n",
      "Epoch 12/100\n",
      "1/1 [==============================] - 0s 2ms/step - loss: 54.4561 - mse: 54.4561\n",
      "Epoch 13/100\n",
      "1/1 [==============================] - 0s 5ms/step - loss: 52.7460 - mse: 52.7460\n",
      "Epoch 14/100\n",
      "1/1 [==============================] - 0s 4ms/step - loss: 51.0896 - mse: 51.0896\n",
      "Epoch 15/100\n",
      "1/1 [==============================] - 0s 4ms/step - loss: 49.4853 - mse: 49.4853\n",
      "Epoch 16/100\n",
      "1/1 [==============================] - 0s 2ms/step - loss: 47.9313 - mse: 47.9313\n",
      "Epoch 17/100\n",
      "1/1 [==============================] - 0s 2ms/step - loss: 46.4261 - mse: 46.4261\n",
      "Epoch 18/100\n",
      "1/1 [==============================] - 0s 2ms/step - loss: 44.9681 - mse: 44.9681\n",
      "Epoch 19/100\n",
      "1/1 [==============================] - 0s 2ms/step - loss: 43.5560 - mse: 43.5560\n",
      "Epoch 20/100\n",
      "1/1 [==============================] - 0s 3ms/step - loss: 42.1882 - mse: 42.1882\n",
      "Epoch 21/100\n",
      "1/1 [==============================] - 0s 2ms/step - loss: 40.8633 - mse: 40.8633\n",
      "Epoch 22/100\n",
      "1/1 [==============================] - 0s 2ms/step - loss: 39.5801 - mse: 39.5801\n",
      "Epoch 23/100\n",
      "1/1 [==============================] - 0s 2ms/step - loss: 38.3372 - mse: 38.3372\n",
      "Epoch 24/100\n",
      "1/1 [==============================] - 0s 2ms/step - loss: 37.1333 - mse: 37.1333\n",
      "Epoch 25/100\n",
      "1/1 [==============================] - 0s 2ms/step - loss: 35.9671 - mse: 35.9671\n",
      "Epoch 26/100\n",
      "1/1 [==============================] - 0s 3ms/step - loss: 34.8377 - mse: 34.8377\n",
      "Epoch 27/100\n",
      "1/1 [==============================] - 0s 2ms/step - loss: 33.7437 - mse: 33.7437\n",
      "Epoch 28/100\n",
      "1/1 [==============================] - 0s 2ms/step - loss: 32.6840 - mse: 32.6840\n",
      "Epoch 29/100\n",
      "1/1 [==============================] - 0s 2ms/step - loss: 31.6576 - mse: 31.6576\n",
      "Epoch 30/100\n",
      "1/1 [==============================] - 0s 4ms/step - loss: 30.6635 - mse: 30.6635\n",
      "Epoch 31/100\n",
      "1/1 [==============================] - 0s 2ms/step - loss: 29.7005 - mse: 29.7005\n",
      "Epoch 32/100\n",
      "1/1 [==============================] - 0s 3ms/step - loss: 28.7678 - mse: 28.7678\n",
      "Epoch 33/100\n",
      "1/1 [==============================] - 0s 3ms/step - loss: 27.8644 - mse: 27.8644\n",
      "Epoch 34/100\n",
      "1/1 [==============================] - 0s 3ms/step - loss: 26.9894 - mse: 26.9894\n",
      "Epoch 35/100\n",
      "1/1 [==============================] - 0s 2ms/step - loss: 26.1419 - mse: 26.1419\n",
      "Epoch 36/100\n",
      "1/1 [==============================] - 0s 2ms/step - loss: 25.3209 - mse: 25.3209\n",
      "Epoch 37/100\n",
      "1/1 [==============================] - 0s 3ms/step - loss: 24.5258 - mse: 24.5258\n",
      "Epoch 38/100\n",
      "1/1 [==============================] - 0s 3ms/step - loss: 23.7556 - mse: 23.7556\n",
      "Epoch 39/100\n",
      "1/1 [==============================] - 0s 2ms/step - loss: 23.0096 - mse: 23.0096\n",
      "Epoch 40/100\n",
      "1/1 [==============================] - 0s 2ms/step - loss: 22.2870 - mse: 22.2870\n",
      "Epoch 41/100\n",
      "1/1 [==============================] - 0s 3ms/step - loss: 21.5871 - mse: 21.5871\n",
      "Epoch 42/100\n",
      "1/1 [==============================] - 0s 2ms/step - loss: 20.9092 - mse: 20.9092\n",
      "Epoch 43/100\n",
      "1/1 [==============================] - 0s 3ms/step - loss: 20.2526 - mse: 20.2526\n",
      "Epoch 44/100\n",
      "1/1 [==============================] - 0s 3ms/step - loss: 19.6166 - mse: 19.6166\n",
      "Epoch 45/100\n",
      "1/1 [==============================] - 0s 2ms/step - loss: 19.0006 - mse: 19.0006\n",
      "Epoch 46/100\n",
      "1/1 [==============================] - 0s 3ms/step - loss: 18.4039 - mse: 18.4039\n",
      "Epoch 47/100\n",
      "1/1 [==============================] - 0s 3ms/step - loss: 17.8259 - mse: 17.8259\n",
      "Epoch 48/100\n",
      "1/1 [==============================] - 0s 2ms/step - loss: 17.2662 - mse: 17.2662\n",
      "Epoch 49/100\n",
      "1/1 [==============================] - 0s 2ms/step - loss: 16.7239 - mse: 16.7239\n",
      "Epoch 50/100\n",
      "1/1 [==============================] - 0s 2ms/step - loss: 16.1988 - mse: 16.1988\n",
      "Epoch 51/100\n",
      "1/1 [==============================] - 0s 3ms/step - loss: 15.6901 - mse: 15.6901\n",
      "Epoch 52/100\n",
      "1/1 [==============================] - 0s 3ms/step - loss: 15.1973 - mse: 15.1973\n",
      "Epoch 53/100\n",
      "1/1 [==============================] - 0s 2ms/step - loss: 14.7201 - mse: 14.7201\n",
      "Epoch 54/100\n",
      "1/1 [==============================] - 0s 3ms/step - loss: 14.2578 - mse: 14.2578\n",
      "Epoch 55/100\n",
      "1/1 [==============================] - 0s 2ms/step - loss: 13.8101 - mse: 13.8101\n",
      "Epoch 56/100\n",
      "1/1 [==============================] - 0s 3ms/step - loss: 13.3764 - mse: 13.3764\n",
      "Epoch 57/100\n",
      "1/1 [==============================] - 0s 4ms/step - loss: 12.9564 - mse: 12.9564\n",
      "Epoch 58/100\n",
      "1/1 [==============================] - 0s 2ms/step - loss: 12.5495 - mse: 12.5495\n",
      "Epoch 59/100\n",
      "1/1 [==============================] - 0s 2ms/step - loss: 12.1554 - mse: 12.1554\n",
      "Epoch 60/100\n",
      "1/1 [==============================] - 0s 2ms/step - loss: 11.7737 - mse: 11.7737\n",
      "Epoch 61/100\n",
      "1/1 [==============================] - 0s 2ms/step - loss: 11.4039 - mse: 11.4039\n",
      "Epoch 62/100\n",
      "1/1 [==============================] - 0s 2ms/step - loss: 11.0458 - mse: 11.0458\n",
      "Epoch 63/100\n",
      "1/1 [==============================] - 0s 2ms/step - loss: 10.6989 - mse: 10.6989\n",
      "Epoch 64/100\n",
      "1/1 [==============================] - 0s 2ms/step - loss: 10.3630 - mse: 10.3630\n",
      "Epoch 65/100\n",
      "1/1 [==============================] - 0s 3ms/step - loss: 10.0375 - mse: 10.0375\n",
      "Epoch 66/100\n",
      "1/1 [==============================] - 0s 2ms/step - loss: 9.7223 - mse: 9.7223\n",
      "Epoch 67/100\n",
      "1/1 [==============================] - 0s 3ms/step - loss: 9.4170 - mse: 9.4170\n",
      "Epoch 68/100\n",
      "1/1 [==============================] - 0s 2ms/step - loss: 9.1213 - mse: 9.1213\n",
      "Epoch 69/100\n",
      "1/1 [==============================] - 0s 2ms/step - loss: 8.8349 - mse: 8.8349\n",
      "Epoch 70/100\n",
      "1/1 [==============================] - 0s 2ms/step - loss: 8.5574 - mse: 8.5574\n",
      "Epoch 71/100\n",
      "1/1 [==============================] - 0s 3ms/step - loss: 8.2887 - mse: 8.2887\n",
      "Epoch 72/100\n",
      "1/1 [==============================] - 0s 2ms/step - loss: 8.0284 - mse: 8.0284\n",
      "Epoch 73/100\n",
      "1/1 [==============================] - 0s 2ms/step - loss: 7.7763 - mse: 7.7763\n",
      "Epoch 74/100\n",
      "1/1 [==============================] - 0s 2ms/step - loss: 7.5321 - mse: 7.5321\n",
      "Epoch 75/100\n",
      "1/1 [==============================] - 0s 999us/step - loss: 7.2955 - mse: 7.2955\n",
      "Epoch 76/100\n",
      "1/1 [==============================] - 0s 4ms/step - loss: 7.0664 - mse: 7.0664\n",
      "Epoch 77/100\n",
      "1/1 [==============================] - 0s 2ms/step - loss: 6.8445 - mse: 6.8445\n",
      "Epoch 78/100\n",
      "1/1 [==============================] - 0s 1ms/step - loss: 6.6296 - mse: 6.6296\n",
      "Epoch 79/100\n",
      "1/1 [==============================] - 0s 2ms/step - loss: 6.4214 - mse: 6.4214\n",
      "Epoch 80/100\n",
      "1/1 [==============================] - 0s 4ms/step - loss: 6.2197 - mse: 6.2197\n",
      "Epoch 81/100\n",
      "1/1 [==============================] - 0s 3ms/step - loss: 6.0244 - mse: 6.0244\n",
      "Epoch 82/100\n",
      "1/1 [==============================] - 0s 2ms/step - loss: 5.8352 - mse: 5.8352\n",
      "Epoch 83/100\n",
      "1/1 [==============================] - 0s 2ms/step - loss: 5.6520 - mse: 5.6520\n",
      "Epoch 84/100\n",
      "1/1 [==============================] - 0s 2ms/step - loss: 5.4745 - mse: 5.4745\n",
      "Epoch 85/100\n",
      "1/1 [==============================] - 0s 2ms/step - loss: 5.3026 - mse: 5.3026\n",
      "Epoch 86/100\n",
      "1/1 [==============================] - 0s 3ms/step - loss: 5.1361 - mse: 5.1361\n",
      "Epoch 87/100\n",
      "1/1 [==============================] - 0s 2ms/step - loss: 4.9748 - mse: 4.9748\n",
      "Epoch 88/100\n",
      "1/1 [==============================] - 0s 2ms/step - loss: 4.8186 - mse: 4.8186\n",
      "Epoch 89/100\n",
      "1/1 [==============================] - 0s 3ms/step - loss: 4.6672 - mse: 4.6672\n",
      "Epoch 90/100\n",
      "1/1 [==============================] - 0s 1ms/step - loss: 4.5207 - mse: 4.5207\n",
      "Epoch 91/100\n",
      "1/1 [==============================] - 0s 2ms/step - loss: 4.3787 - mse: 4.3787\n",
      "Epoch 92/100\n",
      "1/1 [==============================] - 0s 2ms/step - loss: 4.2412 - mse: 4.2412\n",
      "Epoch 93/100\n",
      "1/1 [==============================] - 0s 996us/step - loss: 4.1080 - mse: 4.1080\n",
      "Epoch 94/100\n",
      "1/1 [==============================] - 0s 2ms/step - loss: 3.9790 - mse: 3.9790\n",
      "Epoch 95/100\n",
      "1/1 [==============================] - 0s 2ms/step - loss: 3.8541 - mse: 3.8541\n",
      "Epoch 96/100\n",
      "1/1 [==============================] - 0s 2ms/step - loss: 3.7330 - mse: 3.7330\n",
      "Epoch 97/100\n",
      "1/1 [==============================] - 0s 4ms/step - loss: 3.6158 - mse: 3.6158\n",
      "Epoch 98/100\n",
      "1/1 [==============================] - 0s 3ms/step - loss: 3.5022 - mse: 3.5022\n",
      "Epoch 99/100\n",
      "1/1 [==============================] - 0s 2ms/step - loss: 3.3923 - mse: 3.3923\n",
      "Epoch 100/100\n",
      "1/1 [==============================] - 0s 2ms/step - loss: 3.2857 - mse: 3.2857\n"
     ]
    },
    {
     "data": {
      "text/plain": [
       "<tensorflow.python.keras.callbacks.History at 0x2b71317ba08>"
      ]
     },
     "execution_count": 16,
     "metadata": {},
     "output_type": "execute_result"
    }
   ],
   "source": [
    "model = keras.models.Sequential([                   ## Step 1\n",
    "    keras.layers.Dense(1)\n",
    "])\n",
    "model.compile(loss=keras.losses.mean_squared_error, ## Step 2\n",
    "             optimizer=keras.optimizers.SGD(),\n",
    "             metrics=[\"mse\"])\n",
    "model.fit(X, y, epochs=100)                         ## Step 3"
   ]
  },
  {
   "cell_type": "markdown",
   "id": "293130b0-e566-4797-ae55-2ca311b90c40",
   "metadata": {},
   "source": [
    "We can call the `summary()` method to view the model structure."
   ]
  },
  {
   "cell_type": "code",
   "execution_count": 17,
   "id": "64d9d5c9-4d76-43dc-8f7d-08abd9f6d4c8",
   "metadata": {},
   "outputs": [
    {
     "name": "stdout",
     "output_type": "stream",
     "text": [
      "Model: \"sequential_1\"\n",
      "_________________________________________________________________\n",
      "Layer (type)                 Output Shape              Param #   \n",
      "=================================================================\n",
      "dense_2 (Dense)              (None, 1)                 2         \n",
      "=================================================================\n",
      "Total params: 2\n",
      "Trainable params: 2\n",
      "Non-trainable params: 0\n",
      "_________________________________________________________________\n"
     ]
    }
   ],
   "source": [
    "model.summary()"
   ]
  },
  {
   "cell_type": "markdown",
   "id": "27acafad-efc1-431c-9f3f-d46bddeb23ae",
   "metadata": {},
   "source": [
    "**As with Scikit-learn algorithms, we can simply run predict to get predictions**"
   ]
  },
  {
   "cell_type": "code",
   "execution_count": 18,
   "id": "b4c59365",
   "metadata": {},
   "outputs": [
    {
     "data": {
      "text/plain": [
       "array([[30.385017]], dtype=float32)"
      ]
     },
     "execution_count": 18,
     "metadata": {},
     "output_type": "execute_result"
    }
   ],
   "source": [
    "model.predict([20])"
   ]
  },
  {
   "cell_type": "markdown",
   "id": "289a3447-443a-4ad7-9a67-b9071133bc07",
   "metadata": {},
   "source": [
    "Here we try out the trained model on a bigger dataset. Also we shuffle the order of data to imporve training performance. "
   ]
  },
  {
   "cell_type": "code",
   "execution_count": 19,
   "id": "8e344786",
   "metadata": {},
   "outputs": [
    {
     "data": {
      "text/plain": [
       "<tf.Tensor: shape=(50,), dtype=int32, numpy=\n",
       "array([  48, -100,  -24,  -32,   52,   36,  -48,  -52,   56,   16,  -12,\n",
       "        -40,  -88,  -56,    4,   92,   -8,  -68,  -92,    8,   64,  -96,\n",
       "         40,  -36,   32,  -44,  -28,   20,    0,  -16,   60,   24,  -72,\n",
       "         80,   84,   -4,  -64,  -20,   44,   12,   68,   76,   72,  -60,\n",
       "        -84,   96,  -76,   28,   88,  -80])>"
      ]
     },
     "execution_count": 19,
     "metadata": {},
     "output_type": "execute_result"
    }
   ],
   "source": [
    "X = tf.range(-100, 100, 4)\n",
    "\n",
    "tf.random.set_seed(42)\n",
    "\n",
    "X = tf.random.shuffle(X)\n",
    "X"
   ]
  },
  {
   "cell_type": "code",
   "execution_count": 20,
   "id": "8b3d03ef",
   "metadata": {},
   "outputs": [
    {
     "data": {
      "text/plain": [
       "<tf.Tensor: shape=(50,), dtype=int32, numpy=\n",
       "array([ 58, -90, -14, -22,  62,  46, -38, -42,  66,  26,  -2, -30, -78,\n",
       "       -46,  14, 102,   2, -58, -82,  18,  74, -86,  50, -26,  42, -34,\n",
       "       -18,  30,  10,  -6,  70,  34, -62,  90,  94,   6, -54, -10,  54,\n",
       "        22,  78,  86,  82, -50, -74, 106, -66,  38,  98, -70])>"
      ]
     },
     "execution_count": 20,
     "metadata": {},
     "output_type": "execute_result"
    }
   ],
   "source": [
    "y = X + 10\n",
    "y"
   ]
  },
  {
   "cell_type": "code",
   "execution_count": 21,
   "id": "4ae4e5e1",
   "metadata": {},
   "outputs": [
    {
     "data": {
      "image/png": "[encoded data removed]",
      "text/plain": [
       "<Figure size 432x288 with 1 Axes>"
      ]
     },
     "metadata": {
      "needs_background": "light"
     },
     "output_type": "display_data"
    }
   ],
   "source": [
    "import matplotlib.pyplot as plt\n",
    "\n",
    "plt.scatter(X, y)\n",
    "plt.show()"
   ]
  },
  {
   "cell_type": "markdown",
   "id": "e34dd25c-c331-4e44-b81c-078af22d0948",
   "metadata": {},
   "source": [
    "#### - Train-test split"
   ]
  },
  {
   "cell_type": "code",
   "execution_count": 22,
   "id": "adad1e74",
   "metadata": {},
   "outputs": [],
   "source": [
    "X_train, X_test = X[:40], X[40:]\n",
    "y_train, y_test = y[:40], y[40:]"
   ]
  },
  {
   "cell_type": "code",
   "execution_count": 23,
   "id": "59681d07",
   "metadata": {},
   "outputs": [
    {
     "data": {
      "image/png": "[encoded data removed]",
      "text/plain": [
       "<Figure size 576x432 with 1 Axes>"
      ]
     },
     "metadata": {
      "needs_background": "light"
     },
     "output_type": "display_data"
    }
   ],
   "source": [
    "plt.figure(figsize=(8, 6))\n",
    "plt.scatter(X_train, y_train, c=\"red\", label=\"Training\")\n",
    "plt.scatter(X_test, y_test, c=\"blue\", label=\"Testing\")\n",
    "plt.legend()\n",
    "plt.show()"
   ]
  },
  {
   "cell_type": "markdown",
   "id": "a4fb195f-a7d3-4e9c-8cb4-dbdf49483ef0",
   "metadata": {},
   "source": [
    "Here we use the same model structure as before to try and predict the `y` from `x`."
   ]
  },
  {
   "cell_type": "code",
   "execution_count": 24,
   "id": "91b679c8",
   "metadata": {},
   "outputs": [
    {
     "name": "stdout",
     "output_type": "stream",
     "text": [
      "Epoch 1/100\n",
      "2/2 [==============================] - 0s 3ms/step - loss: 349.0892 - mse: 349.0892\n",
      "Epoch 2/100\n",
      "2/2 [==============================] - 0s 2ms/step - loss: 134.2728 - mse: 134.2728\n",
      "Epoch 3/100\n",
      "2/2 [==============================] - 0s 2ms/step - loss: 103.6441 - mse: 103.6441\n",
      "Epoch 4/100\n",
      "2/2 [==============================] - 0s 2ms/step - loss: 136.5317 - mse: 136.5317\n",
      "Epoch 5/100\n",
      "2/2 [==============================] - 0s 3ms/step - loss: 127.0465 - mse: 127.0465\n",
      "Epoch 6/100\n",
      "2/2 [==============================] - 0s 2ms/step - loss: 103.5208 - mse: 103.5208\n",
      "Epoch 7/100\n",
      "2/2 [==============================] - 0s 2ms/step - loss: 76.8275 - mse: 76.8275\n",
      "Epoch 8/100\n",
      "2/2 [==============================] - 0s 2ms/step - loss: 72.9567 - mse: 72.9567\n",
      "Epoch 9/100\n",
      "2/2 [==============================] - 0s 3ms/step - loss: 76.1100 - mse: 76.1100\n",
      "Epoch 10/100\n",
      "2/2 [==============================] - 0s 2ms/step - loss: 71.3341 - mse: 71.3341\n",
      "Epoch 11/100\n",
      "2/2 [==============================] - 0s 1ms/step - loss: 65.3950 - mse: 65.3950\n",
      "Epoch 12/100\n",
      "2/2 [==============================] - 0s 1ms/step - loss: 59.0570 - mse: 59.0570\n",
      "Epoch 13/100\n",
      "2/2 [==============================] - 0s 1ms/step - loss: 57.3783 - mse: 57.3783\n",
      "Epoch 14/100\n",
      "2/2 [==============================] - 0s 997us/step - loss: 54.5524 - mse: 54.5524\n",
      "Epoch 15/100\n",
      "2/2 [==============================] - 0s 2ms/step - loss: 49.8050 - mse: 49.8050\n",
      "Epoch 16/100\n",
      "2/2 [==============================] - 0s 2ms/step - loss: 46.6929 - mse: 46.6929\n",
      "Epoch 17/100\n",
      "2/2 [==============================] - 0s 2ms/step - loss: 45.9021 - mse: 45.9021\n",
      "Epoch 18/100\n",
      "2/2 [==============================] - 0s 992us/step - loss: 44.4081 - mse: 44.4081\n",
      "Epoch 19/100\n",
      "2/2 [==============================] - 0s 3ms/step - loss: 41.2032 - mse: 41.2032\n",
      "Epoch 20/100\n",
      "2/2 [==============================] - 0s 2ms/step - loss: 36.3943 - mse: 36.3943\n",
      "Epoch 21/100\n",
      "2/2 [==============================] - 0s 3ms/step - loss: 35.0319 - mse: 35.0319\n",
      "Epoch 22/100\n",
      "2/2 [==============================] - 0s 999us/step - loss: 34.1629 - mse: 34.1629\n",
      "Epoch 23/100\n",
      "2/2 [==============================] - 0s 2ms/step - loss: 31.3857 - mse: 31.3857\n",
      "Epoch 24/100\n",
      "2/2 [==============================] - 0s 3ms/step - loss: 28.4060 - mse: 28.4060\n",
      "Epoch 25/100\n",
      "2/2 [==============================] - 0s 2ms/step - loss: 28.0518 - mse: 28.0518\n",
      "Epoch 26/100\n",
      "2/2 [==============================] - 0s 2ms/step - loss: 28.2394 - mse: 28.2394\n",
      "Epoch 27/100\n",
      "2/2 [==============================] - 0s 2ms/step - loss: 25.4739 - mse: 25.4739\n",
      "Epoch 28/100\n",
      "2/2 [==============================] - 0s 2ms/step - loss: 22.7965 - mse: 22.7965\n",
      "Epoch 29/100\n",
      "2/2 [==============================] - 0s 2ms/step - loss: 20.4539 - mse: 20.4539\n",
      "Epoch 30/100\n",
      "2/2 [==============================] - 0s 2ms/step - loss: 19.9030 - mse: 19.9030\n",
      "Epoch 31/100\n",
      "2/2 [==============================] - 0s 2ms/step - loss: 18.7502 - mse: 18.7502\n",
      "Epoch 32/100\n",
      "2/2 [==============================] - 0s 2ms/step - loss: 17.1599 - mse: 17.1599\n",
      "Epoch 33/100\n",
      "2/2 [==============================] - 0s 3ms/step - loss: 15.3716 - mse: 15.3716\n",
      "Epoch 34/100\n",
      "2/2 [==============================] - 0s 2ms/step - loss: 14.5537 - mse: 14.5537\n",
      "Epoch 35/100\n",
      "2/2 [==============================] - 0s 2ms/step - loss: 13.5135 - mse: 13.5135\n",
      "Epoch 36/100\n",
      "2/2 [==============================] - 0s 2ms/step - loss: 12.3815 - mse: 12.3815\n",
      "Epoch 37/100\n",
      "2/2 [==============================] - 0s 3ms/step - loss: 11.3722 - mse: 11.3722\n",
      "Epoch 38/100\n",
      "2/2 [==============================] - 0s 2ms/step - loss: 10.5255 - mse: 10.5255\n",
      "Epoch 39/100\n",
      "2/2 [==============================] - 0s 3ms/step - loss: 9.7410 - mse: 9.7410\n",
      "Epoch 40/100\n",
      "2/2 [==============================] - 0s 2ms/step - loss: 9.0480 - mse: 9.0480\n",
      "Epoch 41/100\n",
      "2/2 [==============================] - 0s 3ms/step - loss: 8.3842 - mse: 8.3842\n",
      "Epoch 42/100\n",
      "2/2 [==============================] - 0s 2ms/step - loss: 7.6857 - mse: 7.6857\n",
      "Epoch 43/100\n",
      "2/2 [==============================] - 0s 3ms/step - loss: 7.0611 - mse: 7.0611\n",
      "Epoch 44/100\n",
      "2/2 [==============================] - 0s 2ms/step - loss: 6.4665 - mse: 6.4665\n",
      "Epoch 45/100\n",
      "2/2 [==============================] - 0s 2ms/step - loss: 5.8981 - mse: 5.8981\n",
      "Epoch 46/100\n",
      "2/2 [==============================] - 0s 3ms/step - loss: 5.6156 - mse: 5.6156\n",
      "Epoch 47/100\n",
      "2/2 [==============================] - 0s 2ms/step - loss: 5.3491 - mse: 5.3491\n",
      "Epoch 48/100\n",
      "2/2 [==============================] - 0s 2ms/step - loss: 4.3857 - mse: 4.3857\n",
      "Epoch 49/100\n",
      "2/2 [==============================] - 0s 2ms/step - loss: 4.1171 - mse: 4.1171\n",
      "Epoch 50/100\n",
      "2/2 [==============================] - 0s 3ms/step - loss: 4.5969 - mse: 4.5969\n",
      "Epoch 51/100\n",
      "2/2 [==============================] - 0s 1ms/step - loss: 4.4777 - mse: 4.4777\n",
      "Epoch 52/100\n",
      "2/2 [==============================] - 0s 4ms/step - loss: 3.2970 - mse: 3.2970\n",
      "Epoch 53/100\n",
      "2/2 [==============================] - 0s 2ms/step - loss: 2.9287 - mse: 2.9287\n",
      "Epoch 54/100\n",
      "2/2 [==============================] - 0s 2ms/step - loss: 3.1665 - mse: 3.1665\n",
      "Epoch 55/100\n",
      "2/2 [==============================] - 0s 2ms/step - loss: 2.6290 - mse: 2.6290\n",
      "Epoch 56/100\n",
      "2/2 [==============================] - 0s 3ms/step - loss: 2.2436 - mse: 2.2436\n",
      "Epoch 57/100\n",
      "2/2 [==============================] - 0s 2ms/step - loss: 2.3623 - mse: 2.3623\n",
      "Epoch 58/100\n",
      "2/2 [==============================] - 0s 4ms/step - loss: 1.9011 - mse: 1.9011\n",
      "Epoch 59/100\n",
      "2/2 [==============================] - 0s 2ms/step - loss: 1.5843 - mse: 1.5843\n",
      "Epoch 60/100\n",
      "2/2 [==============================] - 0s 3ms/step - loss: 1.4998 - mse: 1.4998\n",
      "Epoch 61/100\n",
      "2/2 [==============================] - 0s 2ms/step - loss: 1.3472 - mse: 1.3472\n",
      "Epoch 62/100\n",
      "2/2 [==============================] - 0s 2ms/step - loss: 1.1386 - mse: 1.1386\n",
      "Epoch 63/100\n",
      "2/2 [==============================] - 0s 3ms/step - loss: 1.0582 - mse: 1.0582\n",
      "Epoch 64/100\n",
      "2/2 [==============================] - 0s 2ms/step - loss: 1.0090 - mse: 1.0090\n",
      "Epoch 65/100\n",
      "2/2 [==============================] - 0s 1ms/step - loss: 0.8040 - mse: 0.8040\n",
      "Epoch 66/100\n",
      "2/2 [==============================] - 0s 2ms/step - loss: 0.7613 - mse: 0.7613\n",
      "Epoch 67/100\n",
      "2/2 [==============================] - 0s 2ms/step - loss: 0.7912 - mse: 0.7912\n",
      "Epoch 68/100\n",
      "2/2 [==============================] - 0s 2ms/step - loss: 0.6205 - mse: 0.6205\n",
      "Epoch 69/100\n",
      "2/2 [==============================] - 0s 3ms/step - loss: 0.5295 - mse: 0.5295\n",
      "Epoch 70/100\n",
      "2/2 [==============================] - 0s 2ms/step - loss: 0.5456 - mse: 0.5456\n",
      "Epoch 71/100\n",
      "2/2 [==============================] - 0s 3ms/step - loss: 0.4259 - mse: 0.4259\n",
      "Epoch 72/100\n",
      "2/2 [==============================] - 0s 2ms/step - loss: 0.3476 - mse: 0.3476\n",
      "Epoch 73/100\n",
      "2/2 [==============================] - 0s 2ms/step - loss: 0.3254 - mse: 0.3254\n",
      "Epoch 74/100\n",
      "2/2 [==============================] - 0s 3ms/step - loss: 0.3109 - mse: 0.3109\n",
      "Epoch 75/100\n",
      "2/2 [==============================] - 0s 999us/step - loss: 0.2505 - mse: 0.2505\n",
      "Epoch 76/100\n",
      "2/2 [==============================] - 0s 2ms/step - loss: 0.2073 - mse: 0.2073\n",
      "Epoch 77/100\n",
      "2/2 [==============================] - 0s 2ms/step - loss: 0.2063 - mse: 0.2063\n",
      "Epoch 78/100\n",
      "2/2 [==============================] - 0s 999us/step - loss: 0.1923 - mse: 0.1923\n",
      "Epoch 79/100\n",
      "2/2 [==============================] - 0s 999us/step - loss: 0.1457 - mse: 0.1457\n",
      "Epoch 80/100\n",
      "2/2 [==============================] - 0s 3ms/step - loss: 0.1247 - mse: 0.1247\n",
      "Epoch 81/100\n",
      "2/2 [==============================] - 0s 2ms/step - loss: 0.1090 - mse: 0.1090\n",
      "Epoch 82/100\n",
      "2/2 [==============================] - 0s 2ms/step - loss: 0.0957 - mse: 0.0957\n",
      "Epoch 83/100\n",
      "2/2 [==============================] - 0s 2ms/step - loss: 0.0878 - mse: 0.0878\n",
      "Epoch 84/100\n",
      "2/2 [==============================] - 0s 2ms/step - loss: 0.0763 - mse: 0.0763\n",
      "Epoch 85/100\n",
      "2/2 [==============================] - 0s 2ms/step - loss: 0.0630 - mse: 0.0630\n",
      "Epoch 86/100\n",
      "2/2 [==============================] - 0s 2ms/step - loss: 0.0554 - mse: 0.0554\n",
      "Epoch 87/100\n",
      "2/2 [==============================] - 0s 1ms/step - loss: 0.0481 - mse: 0.0481\n",
      "Epoch 88/100\n",
      "2/2 [==============================] - 0s 3ms/step - loss: 0.0393 - mse: 0.0393\n",
      "Epoch 89/100\n",
      "2/2 [==============================] - 0s 2ms/step - loss: 0.0377 - mse: 0.0377\n",
      "Epoch 90/100\n",
      "2/2 [==============================] - 0s 2ms/step - loss: 0.0398 - mse: 0.0398\n",
      "Epoch 91/100\n",
      "2/2 [==============================] - 0s 2ms/step - loss: 0.0284 - mse: 0.0284\n",
      "Epoch 92/100\n",
      "2/2 [==============================] - 0s 2ms/step - loss: 0.0220 - mse: 0.0220\n",
      "Epoch 93/100\n",
      "2/2 [==============================] - 0s 2ms/step - loss: 0.0246 - mse: 0.0246\n",
      "Epoch 94/100\n",
      "2/2 [==============================] - 0s 2ms/step - loss: 0.0186 - mse: 0.0186\n",
      "Epoch 95/100\n",
      "2/2 [==============================] - 0s 3ms/step - loss: 0.0141 - mse: 0.0141\n",
      "Epoch 96/100\n",
      "2/2 [==============================] - 0s 1000us/step - loss: 0.0209 - mse: 0.0209\n",
      "Epoch 97/100\n",
      "2/2 [==============================] - 0s 2ms/step - loss: 0.0148 - mse: 0.0148\n",
      "Epoch 98/100\n",
      "2/2 [==============================] - 0s 2ms/step - loss: 0.0088 - mse: 0.0088\n",
      "Epoch 99/100\n",
      "2/2 [==============================] - 0s 2ms/step - loss: 0.0143 - mse: 0.0143\n",
      "Epoch 100/100\n",
      "2/2 [==============================] - 0s 2ms/step - loss: 0.0113 - mse: 0.0113\n"
     ]
    },
    {
     "data": {
      "text/plain": [
       "<tensorflow.python.keras.callbacks.History at 0x2b713385088>"
      ]
     },
     "execution_count": 24,
     "metadata": {},
     "output_type": "execute_result"
    }
   ],
   "source": [
    "model = keras.models.Sequential([\n",
    "    keras.layers.Dense(1, input_shape=[1])\n",
    "])\n",
    "\n",
    "model.compile(loss=keras.losses.mse,\n",
    "             optimizer=keras.optimizers.Adam(lr=0.11),  ## Adam is another optimizer, lr is learning rate, it refers to how fast the ...\n",
    "             metrics=[\"mse\"])                           ## ... gradient changes in each training iteration\n",
    "\n",
    "model.fit(X_train, y_train, epochs=100)"
   ]
  },
  {
   "cell_type": "code",
   "execution_count": 25,
   "id": "89f21efa",
   "metadata": {},
   "outputs": [
    {
     "data": {
      "text/plain": [
       "array([[ 77.897156],\n",
       "       [ 85.89345 ],\n",
       "       [ 81.89531 ],\n",
       "       [-50.04343 ],\n",
       "       [-74.03229 ],\n",
       "       [105.88417 ],\n",
       "       [-66.035995],\n",
       "       [ 37.915726],\n",
       "       [ 97.88788 ],\n",
       "       [-70.03415 ]], dtype=float32)"
      ]
     },
     "execution_count": 25,
     "metadata": {},
     "output_type": "execute_result"
    }
   ],
   "source": [
    "y_pred = model.predict(X_test)\n",
    "y_pred"
   ]
  },
  {
   "cell_type": "code",
   "execution_count": 26,
   "id": "5849f31f",
   "metadata": {},
   "outputs": [],
   "source": [
    "def plot_predictions(train_data=X_train,\n",
    "                    train_labels=y_train,\n",
    "                    test_data=X_test,\n",
    "                    test_labels=y_test,\n",
    "                    predictions=y_pred):\n",
    "    plt.figure(figsize = (8, 6))\n",
    "    plt.scatter(train_data, train_labels, c=\"blue\", label=\"Training\")\n",
    "    plt.scatter(test_data, test_labels, c=\"red\", label=\"Testing\")\n",
    "    plt.scatter(test_data, predictions, c=\"green\", label=\"Predictions\")\n",
    "    plt.legend()\n",
    "    plt.show()"
   ]
  },
  {
   "cell_type": "code",
   "execution_count": 27,
   "id": "e1508f0b",
   "metadata": {},
   "outputs": [
    {
     "data": {
      "image/png": "[encoded data removed]",
      "text/plain": [
       "<Figure size 576x432 with 1 Axes>"
      ]
     },
     "metadata": {
      "needs_background": "light"
     },
     "output_type": "display_data"
    }
   ],
   "source": [
    "plot_predictions()"
   ]
  },
  {
   "cell_type": "markdown",
   "id": "e9e8e2fd-6871-4dd1-99cd-e4b4ee3619d2",
   "metadata": {},
   "source": [
    "We can also use the `evaulate()` method to calculate the model performance. It returns the lost value and metrics that we specified during the compile stage (2nd stage). Since we use mean squared loss for both in this case, they would be the same. "
   ]
  },
  {
   "cell_type": "code",
   "execution_count": 28,
   "id": "22e09bbf",
   "metadata": {},
   "outputs": [
    {
     "name": "stdout",
     "output_type": "stream",
     "text": [
      "1/1 [==============================] - 0s 112ms/step - loss: 0.0071 - mse: 0.0071\n"
     ]
    },
    {
     "data": {
      "text/plain": [
       "[0.007137080188840628, 0.007137080188840628]"
      ]
     },
     "execution_count": 28,
     "metadata": {},
     "output_type": "execute_result"
    }
   ],
   "source": [
    "model.evaluate(X_test, y_test)"
   ]
  },
  {
   "cell_type": "markdown",
   "id": "313402f8-0b09-44da-9dbd-cb4e63c2ad19",
   "metadata": {},
   "source": [
    "We can just as easily evaluate their performance with other build-in tensorflow metrics. For example, we can look at the `mean_absoulte_error`."
   ]
  },
  {
   "cell_type": "code",
   "execution_count": 29,
   "id": "cd1c09b7",
   "metadata": {},
   "outputs": [
    {
     "data": {
      "text/plain": [
       "<tf.Tensor: shape=(), dtype=float32, numpy=0.07721748>"
      ]
     },
     "execution_count": 29,
     "metadata": {},
     "output_type": "execute_result"
    }
   ],
   "source": [
    "tf.metrics.mean_absolute_error(y_true = y_test, \n",
    "                               y_pred = tf.squeeze(y_pred))"
   ]
  },
  {
   "cell_type": "markdown",
   "id": "78db79ef-e912-4027-b3d5-36f36d1bec86",
   "metadata": {},
   "source": [
    "And if we calculate the `mean_squared_error`, the results will be the same as `evaulate()`."
   ]
  },
  {
   "cell_type": "code",
   "execution_count": 30,
   "id": "0ece4df0",
   "metadata": {},
   "outputs": [
    {
     "data": {
      "text/plain": [
       "<tf.Tensor: shape=(), dtype=float32, numpy=0.00713708>"
      ]
     },
     "execution_count": 30,
     "metadata": {},
     "output_type": "execute_result"
    }
   ],
   "source": [
    "tf.metrics.mean_squared_error(y_true = y_test, \n",
    "                               y_pred = tf.squeeze(y_pred))"
   ]
  },
  {
   "cell_type": "markdown",
   "id": "ff6405c6-bd9f-4207-8f60-09e9ee423e52",
   "metadata": {},
   "source": [
    "### - Saving and loading trained models"
   ]
  },
  {
   "cell_type": "markdown",
   "id": "7cbca2a6-9330-4fa2-a2c5-0cd3f5ce17b0",
   "metadata": {},
   "source": [
    "We can save and load trained models, and all the trained values can be save for later use. So we can train a model in one place, save it and deploy it in another place."
   ]
  },
  {
   "cell_type": "code",
   "execution_count": 31,
   "id": "b1103b12",
   "metadata": {},
   "outputs": [],
   "source": [
    "model.save(\"best_model.h5\")"
   ]
  },
  {
   "cell_type": "code",
   "execution_count": 32,
   "id": "1712ae2b",
   "metadata": {},
   "outputs": [],
   "source": [
    "new_model = keras.models.load_model(\"best_model.h5\")"
   ]
  },
  {
   "cell_type": "code",
   "execution_count": 33,
   "id": "1f74a097",
   "metadata": {},
   "outputs": [
    {
     "name": "stdout",
     "output_type": "stream",
     "text": [
      "Model: \"sequential_2\"\n",
      "_________________________________________________________________\n",
      "Layer (type)                 Output Shape              Param #   \n",
      "=================================================================\n",
      "dense_3 (Dense)              (None, 1)                 2         \n",
      "=================================================================\n",
      "Total params: 2\n",
      "Trainable params: 2\n",
      "Non-trainable params: 0\n",
      "_________________________________________________________________\n"
     ]
    }
   ],
   "source": [
    "new_model.summary()"
   ]
  },
  {
   "cell_type": "code",
   "execution_count": 34,
   "id": "8b0286aa",
   "metadata": {},
   "outputs": [
    {
     "name": "stdout",
     "output_type": "stream",
     "text": [
      "1/1 [==============================] - 0s 79ms/step - loss: 0.0071 - mse: 0.0071\n"
     ]
    },
    {
     "data": {
      "text/plain": [
       "[0.007137080188840628, 0.007137080188840628]"
      ]
     },
     "execution_count": 34,
     "metadata": {},
     "output_type": "execute_result"
    }
   ],
   "source": [
    "new_model.evaluate(X_test, y_test)"
   ]
  },
  {
   "cell_type": "code",
   "execution_count": 35,
   "id": "3c554273",
   "metadata": {},
   "outputs": [
    {
     "data": {
      "text/plain": [
       "array([[ True]])"
      ]
     },
     "execution_count": 35,
     "metadata": {},
     "output_type": "execute_result"
    }
   ],
   "source": [
    "model.predict([60]) == new_model.predict([60])"
   ]
  },
  {
   "cell_type": "markdown",
   "id": "30a473fa-2111-40a4-9b8c-55af425147e3",
   "metadata": {},
   "source": [
    "As we can see, the saved model is completely identical to the one we trained. "
   ]
  },
  {
   "cell_type": "markdown",
   "id": "33d0eb25",
   "metadata": {},
   "source": [
    "# 2. Regression - Insurance Data"
   ]
  },
  {
   "cell_type": "code",
   "execution_count": 36,
   "id": "c8a02f6b",
   "metadata": {},
   "outputs": [],
   "source": [
    "from sklearn.compose import make_column_transformer\n",
    "from sklearn.preprocessing import MinMaxScaler, OneHotEncoder\n",
    "from sklearn.model_selection import train_test_split"
   ]
  },
  {
   "cell_type": "markdown",
   "id": "0f7d5c5c-77e8-4803-9ac3-7702012eaec7",
   "metadata": {},
   "source": [
    "We will use the `Medical Cost Personal` datasets and use attributes such as age, gender and bmi to predict what the medical cost billed by insurance will be."
   ]
  },
  {
   "cell_type": "code",
   "execution_count": 37,
   "id": "0fc778f5",
   "metadata": {},
   "outputs": [
    {
     "data": {
      "text/html": [
       "<div>\n",
       "<style scoped>\n",
       "    .dataframe tbody tr th:only-of-type {\n",
       "        vertical-align: middle;\n",
       "    }\n",
       "\n",
       "    .dataframe tbody tr th {\n",
       "        vertical-align: top;\n",
       "    }\n",
       "\n",
       "    .dataframe thead th {\n",
       "        text-align: right;\n",
       "    }\n",
       "</style>\n",
       "<table border=\"1\" class=\"dataframe\">\n",
       "  <thead>\n",
       "    <tr style=\"text-align: right;\">\n",
       "      <th></th>\n",
       "      <th>age</th>\n",
       "      <th>sex</th>\n",
       "      <th>bmi</th>\n",
       "      <th>children</th>\n",
       "      <th>smoker</th>\n",
       "      <th>region</th>\n",
       "      <th>charges</th>\n",
       "    </tr>\n",
       "  </thead>\n",
       "  <tbody>\n",
       "    <tr>\n",
       "      <th>0</th>\n",
       "      <td>19</td>\n",
       "      <td>female</td>\n",
       "      <td>27.900</td>\n",
       "      <td>0</td>\n",
       "      <td>yes</td>\n",
       "      <td>southwest</td>\n",
       "      <td>16884.92400</td>\n",
       "    </tr>\n",
       "    <tr>\n",
       "      <th>1</th>\n",
       "      <td>18</td>\n",
       "      <td>male</td>\n",
       "      <td>33.770</td>\n",
       "      <td>1</td>\n",
       "      <td>no</td>\n",
       "      <td>southeast</td>\n",
       "      <td>1725.55230</td>\n",
       "    </tr>\n",
       "    <tr>\n",
       "      <th>2</th>\n",
       "      <td>28</td>\n",
       "      <td>male</td>\n",
       "      <td>33.000</td>\n",
       "      <td>3</td>\n",
       "      <td>no</td>\n",
       "      <td>southeast</td>\n",
       "      <td>4449.46200</td>\n",
       "    </tr>\n",
       "    <tr>\n",
       "      <th>3</th>\n",
       "      <td>33</td>\n",
       "      <td>male</td>\n",
       "      <td>22.705</td>\n",
       "      <td>0</td>\n",
       "      <td>no</td>\n",
       "      <td>northwest</td>\n",
       "      <td>21984.47061</td>\n",
       "    </tr>\n",
       "    <tr>\n",
       "      <th>4</th>\n",
       "      <td>32</td>\n",
       "      <td>male</td>\n",
       "      <td>28.880</td>\n",
       "      <td>0</td>\n",
       "      <td>no</td>\n",
       "      <td>northwest</td>\n",
       "      <td>3866.85520</td>\n",
       "    </tr>\n",
       "  </tbody>\n",
       "</table>\n",
       "</div>"
      ],
      "text/plain": [
       "   age     sex     bmi  children smoker     region      charges\n",
       "0   19  female  27.900         0    yes  southwest  16884.92400\n",
       "1   18    male  33.770         1     no  southeast   1725.55230\n",
       "2   28    male  33.000         3     no  southeast   4449.46200\n",
       "3   33    male  22.705         0     no  northwest  21984.47061\n",
       "4   32    male  28.880         0     no  northwest   3866.85520"
      ]
     },
     "execution_count": 37,
     "metadata": {},
     "output_type": "execute_result"
    }
   ],
   "source": [
    "insurance = pd.read_csv(\"insurance.csv\")\n",
    "insurance.head()"
   ]
  },
  {
   "cell_type": "markdown",
   "id": "8c009254-ef9b-4836-b280-3c5b6fcb21ab",
   "metadata": {},
   "source": [
    "Briefly scanning the data we can see that age, children and bmi are continuous variables, but they are on different scales. Therefore, we will have to normalize them. Sex, smoker and region are categorical, and we will have to use one-hot encoding so that they can be fed into the neural network model."
   ]
  },
  {
   "cell_type": "code",
   "execution_count": 38,
   "id": "e8164cd9",
   "metadata": {},
   "outputs": [],
   "source": [
    "ct = make_column_transformer(\n",
    "    (MinMaxScaler(), [\"age\", \"bmi\", \"children\"]), # Turn values in these columns into values from 0 to 1\n",
    "    (OneHotEncoder(handle_unknown=\"ignore\"), [\"sex\", \"smoker\", \"region\"])\n",
    ")\n",
    "\n",
    "X = insurance.drop(\"charges\", axis=1)  # X = insurance.loc[:, insurance.columns != \"charges\"]\n",
    "y = insurance[\"charges\"]\n",
    "\n",
    "X_train, X_test, y_train, y_test = train_test_split(X, y, test_size=0.2, random_state=42)"
   ]
  },
  {
   "cell_type": "code",
   "execution_count": 39,
   "id": "eb36aa51",
   "metadata": {},
   "outputs": [],
   "source": [
    "## Fit column transformer to training data\n",
    "ct.fit(X_train)\n",
    "\n",
    "X_train_norm = ct.transform(X_train)\n",
    "X_test_norm = ct.transform(X_test)"
   ]
  },
  {
   "cell_type": "markdown",
   "id": "c9910929-632d-4ff6-ac55-6cc2d5714670",
   "metadata": {},
   "source": [
    "Here we add some complexities to our model since we are using data with more parameters. We will have four layers and 20 nodes in the first three layers. The last layer will only have one node since it's the output layer, and we are only predicting one value per entry."
   ]
  },
  {
   "cell_type": "code",
   "execution_count": 40,
   "id": "f4405749",
   "metadata": {},
   "outputs": [
    {
     "name": "stdout",
     "output_type": "stream",
     "text": [
      "Epoch 1/100\n",
      "34/34 [==============================] - 0s 1ms/step - loss: 318121133.7143 - mae: 13286.9003\n",
      "Epoch 2/100\n",
      "34/34 [==============================] - 0s 1ms/step - loss: 286614968.6857 - mae: 12040.2629\n",
      "Epoch 3/100\n",
      "34/34 [==============================] - 0s 1ms/step - loss: 133216312.9143 - mae: 8079.5479\n",
      "Epoch 4/100\n",
      "34/34 [==============================] - 0s 1ms/step - loss: 122955385.6000 - mae: 8491.6223\n",
      "Epoch 5/100\n",
      "34/34 [==============================] - 0s 1ms/step - loss: 89299490.0571 - mae: 7522.2550\n",
      "Epoch 6/100\n",
      "34/34 [==============================] - 0s 1ms/step - loss: 67931602.5143 - mae: 6331.4455\n",
      "Epoch 7/100\n",
      "34/34 [==============================] - 0s 1ms/step - loss: 44059052.9143 - mae: 5159.1965\n",
      "Epoch 8/100\n",
      "34/34 [==============================] - 0s 1ms/step - loss: 42349111.3143 - mae: 4521.4477\n",
      "Epoch 9/100\n",
      "34/34 [==============================] - 0s 1ms/step - loss: 36894515.2000 - mae: 4047.4730\n",
      "Epoch 10/100\n",
      "34/34 [==============================] - 0s 1ms/step - loss: 39667288.8571 - mae: 4152.9383\n",
      "Epoch 11/100\n",
      "34/34 [==============================] - 0s 1ms/step - loss: 40180888.2286 - mae: 4257.7771\n",
      "Epoch 12/100\n",
      "34/34 [==============================] - 0s 1ms/step - loss: 39834692.9143 - mae: 4225.5620\n",
      "Epoch 13/100\n",
      "34/34 [==============================] - 0s 1ms/step - loss: 39717821.1429 - mae: 4145.2097\n",
      "Epoch 14/100\n",
      "34/34 [==============================] - 0s 1000us/step - loss: 34650191.0857 - mae: 3947.9761\n",
      "Epoch 15/100\n",
      "34/34 [==============================] - 0s 1ms/step - loss: 37722628.2286 - mae: 4280.5250\n",
      "Epoch 16/100\n",
      "34/34 [==============================] - 0s 1ms/step - loss: 37846840.5714 - mae: 4070.3571\n",
      "Epoch 17/100\n",
      "34/34 [==============================] - 0s 1ms/step - loss: 35489445.4286 - mae: 3969.1290\n",
      "Epoch 18/100\n",
      "34/34 [==============================] - 0s 1ms/step - loss: 35754576.2286 - mae: 3726.0737\n",
      "Epoch 19/100\n",
      "34/34 [==============================] - 0s 1ms/step - loss: 32714642.5714 - mae: 3866.0419\n",
      "Epoch 20/100\n",
      "34/34 [==============================] - 0s 1ms/step - loss: 35674576.9714 - mae: 3798.4987\n",
      "Epoch 21/100\n",
      "34/34 [==============================] - 0s 1ms/step - loss: 33146964.1143 - mae: 3778.2878\n",
      "Epoch 22/100\n",
      "34/34 [==============================] - 0s 1ms/step - loss: 31380956.0000 - mae: 3820.2127\n",
      "Epoch 23/100\n",
      "34/34 [==============================] - 0s 1ms/step - loss: 33286708.7143 - mae: 3862.2543\n",
      "Epoch 24/100\n",
      "34/34 [==============================] - 0s 1ms/step - loss: 33211073.0000 - mae: 3707.4840\n",
      "Epoch 25/100\n",
      "34/34 [==============================] - 0s 1ms/step - loss: 35803825.7714 - mae: 3987.6839\n",
      "Epoch 26/100\n",
      "34/34 [==============================] - 0s 1ms/step - loss: 30962903.8857 - mae: 3564.8143\n",
      "Epoch 27/100\n",
      "34/34 [==============================] - 0s 1ms/step - loss: 35740222.5143 - mae: 3909.6986\n",
      "Epoch 28/100\n",
      "34/34 [==============================] - 0s 1ms/step - loss: 32336556.5714 - mae: 3635.6899\n",
      "Epoch 29/100\n",
      "34/34 [==============================] - 0s 1ms/step - loss: 28041481.1714 - mae: 3380.9663\n",
      "Epoch 30/100\n",
      "34/34 [==============================] - 0s 1ms/step - loss: 31680287.5429 - mae: 3703.8742\n",
      "Epoch 31/100\n",
      "34/34 [==============================] - 0s 1ms/step - loss: 29185756.3429 - mae: 3492.4502\n",
      "Epoch 32/100\n",
      "34/34 [==============================] - 0s 1ms/step - loss: 29186835.9429 - mae: 3542.0863\n",
      "Epoch 33/100\n",
      "34/34 [==============================] - 0s 1ms/step - loss: 30908456.2286 - mae: 3442.2292\n",
      "Epoch 34/100\n",
      "34/34 [==============================] - 0s 1ms/step - loss: 27177487.3143 - mae: 3319.4805\n",
      "Epoch 35/100\n",
      "34/34 [==============================] - 0s 1ms/step - loss: 26878118.8000 - mae: 3297.7048\n",
      "Epoch 36/100\n",
      "34/34 [==============================] - 0s 1ms/step - loss: 26554721.4857 - mae: 3273.3639\n",
      "Epoch 37/100\n",
      "34/34 [==============================] - 0s 1ms/step - loss: 27413180.3429 - mae: 3329.2822\n",
      "Epoch 38/100\n",
      "34/34 [==============================] - 0s 970us/step - loss: 26817019.8286 - mae: 3320.5972\n",
      "Epoch 39/100\n",
      "34/34 [==============================] - 0s 1ms/step - loss: 26524981.2000 - mae: 3277.6109\n",
      "Epoch 40/100\n",
      "34/34 [==============================] - 0s 1ms/step - loss: 25706531.2286 - mae: 3217.6353\n",
      "Epoch 41/100\n",
      "34/34 [==============================] - 0s 1ms/step - loss: 23420659.2000 - mae: 2880.6857\n",
      "Epoch 42/100\n",
      "34/34 [==============================] - 0s 1ms/step - loss: 26873040.9714 - mae: 3129.2167\n",
      "Epoch 43/100\n",
      "34/34 [==============================] - 0s 1ms/step - loss: 24677607.5429 - mae: 3057.8522\n",
      "Epoch 44/100\n",
      "34/34 [==============================] - 0s 1ms/step - loss: 23098774.6286 - mae: 2915.0060\n",
      "Epoch 45/100\n",
      "34/34 [==============================] - 0s 1ms/step - loss: 23616135.9429 - mae: 2909.1336\n",
      "Epoch 46/100\n",
      "34/34 [==============================] - 0s 1ms/step - loss: 25329954.1429 - mae: 2877.4325\n",
      "Epoch 47/100\n",
      "34/34 [==============================] - 0s 1ms/step - loss: 27177115.5429 - mae: 3294.5947\n",
      "Epoch 48/100\n",
      "34/34 [==============================] - 0s 1ms/step - loss: 22302985.6286 - mae: 2830.2023\n",
      "Epoch 49/100\n",
      "34/34 [==============================] - 0s 1ms/step - loss: 24989627.6571 - mae: 2995.4954\n",
      "Epoch 50/100\n",
      "34/34 [==============================] - 0s 1ms/step - loss: 23342231.2000 - mae: 2798.0511\n",
      "Epoch 51/100\n",
      "34/34 [==============================] - 0s 1ms/step - loss: 23293151.0857 - mae: 2955.8216\n",
      "Epoch 52/100\n",
      "34/34 [==============================] - 0s 1ms/step - loss: 24337663.9429 - mae: 2858.8676\n",
      "Epoch 53/100\n",
      "34/34 [==============================] - 0s 1ms/step - loss: 22817816.1143 - mae: 2787.8617\n",
      "Epoch 54/100\n",
      "34/34 [==============================] - 0s 1ms/step - loss: 23578005.4857 - mae: 2909.6531\n",
      "Epoch 55/100\n",
      "34/34 [==============================] - 0s 1ms/step - loss: 22927566.5286 - mae: 3149.2405\n",
      "Epoch 56/100\n",
      "34/34 [==============================] - 0s 1ms/step - loss: 23423099.9714 - mae: 2926.2500\n",
      "Epoch 57/100\n",
      "34/34 [==============================] - 0s 1ms/step - loss: 26064640.5143 - mae: 3143.0367\n",
      "Epoch 58/100\n",
      "34/34 [==============================] - 0s 1ms/step - loss: 23437190.1714 - mae: 2922.0608\n",
      "Epoch 59/100\n",
      "34/34 [==============================] - 0s 1ms/step - loss: 22255593.4286 - mae: 3108.4263\n",
      "Epoch 60/100\n",
      "34/34 [==============================] - 0s 1ms/step - loss: 25486201.6000 - mae: 3073.0755\n",
      "Epoch 61/100\n",
      "34/34 [==============================] - 0s 1ms/step - loss: 24053297.8286 - mae: 2970.0445\n",
      "Epoch 62/100\n",
      "34/34 [==============================] - 0s 1ms/step - loss: 26863442.0000 - mae: 3112.6622\n",
      "Epoch 63/100\n",
      "34/34 [==============================] - 0s 1ms/step - loss: 24359585.7143 - mae: 2971.8647\n",
      "Epoch 64/100\n",
      "34/34 [==============================] - 0s 1ms/step - loss: 25056332.4571 - mae: 3042.4876\n",
      "Epoch 65/100\n",
      "34/34 [==============================] - 0s 1ms/step - loss: 23353226.2000 - mae: 2858.2489\n",
      "Epoch 66/100\n",
      "34/34 [==============================] - 0s 1ms/step - loss: 22376260.2000 - mae: 2805.1334\n",
      "Epoch 67/100\n",
      "34/34 [==============================] - 0s 1ms/step - loss: 25298852.0571 - mae: 2930.6922\n",
      "Epoch 68/100\n",
      "34/34 [==============================] - 0s 1ms/step - loss: 23654491.1429 - mae: 2890.6770\n",
      "Epoch 69/100\n",
      "34/34 [==============================] - 0s 1ms/step - loss: 21654658.1429 - mae: 2694.2266\n",
      "Epoch 70/100\n",
      "34/34 [==============================] - 0s 1ms/step - loss: 22241673.7714 - mae: 2828.1101\n",
      "Epoch 71/100\n",
      "34/34 [==============================] - 0s 1ms/step - loss: 22308152.1143 - mae: 2866.5836\n",
      "Epoch 72/100\n",
      "34/34 [==============================] - 0s 1ms/step - loss: 22508868.4714 - mae: 2906.7584\n",
      "Epoch 73/100\n",
      "34/34 [==============================] - 0s 1ms/step - loss: 26224514.1714 - mae: 3074.1981\n",
      "Epoch 74/100\n",
      "34/34 [==============================] - 0s 1ms/step - loss: 24242563.9429 - mae: 2950.5075\n",
      "Epoch 75/100\n",
      "34/34 [==============================] - 0s 1ms/step - loss: 25420293.6571 - mae: 2851.7832\n",
      "Epoch 76/100\n",
      "34/34 [==============================] - 0s 1ms/step - loss: 24337677.3143 - mae: 2709.5726\n",
      "Epoch 77/100\n",
      "34/34 [==============================] - 0s 1ms/step - loss: 23760413.8571 - mae: 2843.9014\n",
      "Epoch 78/100\n",
      "34/34 [==============================] - 0s 1ms/step - loss: 26686284.4571 - mae: 3026.5661\n",
      "Epoch 79/100\n",
      "34/34 [==============================] - 0s 1ms/step - loss: 21972760.6286 - mae: 2906.4118\n",
      "Epoch 80/100\n",
      "34/34 [==============================] - 0s 1ms/step - loss: 21858548.0000 - mae: 2780.0893\n",
      "Epoch 81/100\n",
      "34/34 [==============================] - 0s 1ms/step - loss: 22370538.8571 - mae: 2774.9259\n",
      "Epoch 82/100\n",
      "34/34 [==============================] - 0s 1ms/step - loss: 28098002.6857 - mae: 3369.4416\n",
      "Epoch 83/100\n",
      "34/34 [==============================] - 0s 1ms/step - loss: 24700435.0857 - mae: 2833.9645\n",
      "Epoch 84/100\n",
      "34/34 [==============================] - 0s 1ms/step - loss: 21361347.2000 - mae: 2579.8494\n",
      "Epoch 85/100\n",
      "34/34 [==============================] - 0s 1ms/step - loss: 18435496.2286 - mae: 2639.3679\n",
      "Epoch 86/100\n",
      "34/34 [==============================] - 0s 1ms/step - loss: 23290384.4000 - mae: 2880.2499\n",
      "Epoch 87/100\n",
      "34/34 [==============================] - 0s 1ms/step - loss: 24597302.4571 - mae: 2908.4093\n",
      "Epoch 88/100\n",
      "34/34 [==============================] - 0s 1ms/step - loss: 23620316.4571 - mae: 2786.6883\n",
      "Epoch 89/100\n",
      "34/34 [==============================] - 0s 1ms/step - loss: 19186502.2500 - mae: 2495.5344\n",
      "Epoch 90/100\n",
      "34/34 [==============================] - 0s 1ms/step - loss: 23178979.7714 - mae: 3069.7572\n",
      "Epoch 91/100\n",
      "34/34 [==============================] - 0s 1ms/step - loss: 21818056.0000 - mae: 2540.8439\n",
      "Epoch 92/100\n",
      "34/34 [==============================] - 0s 1ms/step - loss: 21982134.5143 - mae: 3042.5520\n",
      "Epoch 93/100\n",
      "34/34 [==============================] - 0s 1ms/step - loss: 24589653.2571 - mae: 3084.4165\n",
      "Epoch 94/100\n",
      "34/34 [==============================] - 0s 1ms/step - loss: 19956138.9143 - mae: 2561.2095\n",
      "Epoch 95/100\n",
      "34/34 [==============================] - 0s 1ms/step - loss: 20684238.6857 - mae: 2695.4641\n",
      "Epoch 96/100\n",
      "34/34 [==============================] - 0s 1ms/step - loss: 23164137.3143 - mae: 2983.0371\n",
      "Epoch 97/100\n",
      "34/34 [==============================] - 0s 1ms/step - loss: 22097987.2857 - mae: 2864.8033\n",
      "Epoch 98/100\n",
      "34/34 [==============================] - 0s 1ms/step - loss: 21315970.8571 - mae: 2731.0247\n",
      "Epoch 99/100\n",
      "34/34 [==============================] - 0s 1ms/step - loss: 20197951.6000 - mae: 2508.4256\n",
      "Epoch 100/100\n",
      "34/34 [==============================] - 0s 1ms/step - loss: 22812292.5714 - mae: 2923.3529\n"
     ]
    }
   ],
   "source": [
    "tf.random.set_seed(42)\n",
    "\n",
    "insurance_model = keras.models.Sequential([\n",
    "    keras.layers.Dense(20, activation=\"relu\"),    ## Activation function is a mathematical formula to determine whether ...\n",
    "    keras.layers.Dense(20, activation=\"relu\"),    ## ... the node in a layer should be activated given the input, and also the function to approximate\n",
    "    keras.layers.Dense(20, activation=\"relu\"),    ## Popular activation function includes ReLu, Tanh and Sigmoid\n",
    "    keras.layers.Dense(1),\n",
    "])\n",
    "\n",
    "insurance_model.compile(loss=keras.losses.mean_squared_error,\n",
    "                       optimizer=keras.optimizers.Adam(lr=0.01),\n",
    "                       metrics=[\"mae\"])\n",
    "\n",
    "history = insurance_model.fit(X_train_norm, y_train, epochs=100)"
   ]
  },
  {
   "cell_type": "code",
   "execution_count": 41,
   "id": "8903b452",
   "metadata": {},
   "outputs": [
    {
     "name": "stdout",
     "output_type": "stream",
     "text": [
      "9/9 [==============================] - 0s 1ms/step - loss: 20023824.0000 - mae: 2391.7300\n"
     ]
    },
    {
     "data": {
      "text/plain": [
       "[20023824.0, 2391.72998046875]"
      ]
     },
     "execution_count": 41,
     "metadata": {},
     "output_type": "execute_result"
    }
   ],
   "source": [
    "insurance_model.evaluate(X_test_norm, y_test)"
   ]
  },
  {
   "cell_type": "code",
   "execution_count": 42,
   "id": "1f5c1c2d",
   "metadata": {},
   "outputs": [
    {
     "data": {
      "text/plain": [
       "Text(0, 0.5, 'Loss')"
      ]
     },
     "execution_count": 42,
     "metadata": {},
     "output_type": "execute_result"
    },
    {
     "data": {
      "image/png": "[encoded data removed]",
      "text/plain": [
       "<Figure size 432x288 with 1 Axes>"
      ]
     },
     "metadata": {
      "needs_background": "light"
     },
     "output_type": "display_data"
    }
   ],
   "source": [
    "pd.DataFrame(history.history).plot()\n",
    "plt.xlabel(\"Epochs\")\n",
    "plt.ylabel(\"Loss\")"
   ]
  },
  {
   "cell_type": "markdown",
   "id": "dc041db8-d008-4601-b1dd-08b7536b343c",
   "metadata": {},
   "source": [
    "From the graph, we can see the performance of the model improves significantly up to around the 15th epochs, then it starts to level off. The mean absolute error is about 2400. That means on average, the predictions of medical costs are off by around 2400 USD. You can try to improve the model (reduce error) by tuning the model parameters, such as the activation function to use, training iterations or even the number of layers and nodes in the model."
   ]
  },
  {
   "cell_type": "markdown",
   "id": "eb8d8fff",
   "metadata": {},
   "source": [
    "## 3. Classification"
   ]
  },
  {
   "cell_type": "markdown",
   "id": "f21f5776-6ecf-47ed-a1b1-2e26b86ab9c2",
   "metadata": {},
   "source": [
    "Apart from regression, we can also use neural networks for classification tasks. We demonstrate this with by using `make_circles` function from `Scikit-learn`. "
   ]
  },
  {
   "cell_type": "code",
   "execution_count": 43,
   "id": "f42abf6e",
   "metadata": {},
   "outputs": [],
   "source": [
    "from sklearn.datasets import make_circles\n",
    "\n",
    "# Make 1000 samples\n",
    "n_samples = 1000\n",
    "\n",
    "# Create circles\n",
    "X, y = make_circles(n_samples,\n",
    "                   noise=0.03, \n",
    "                   random_state=42)"
   ]
  },
  {
   "cell_type": "code",
   "execution_count": 44,
   "id": "815b1194",
   "metadata": {},
   "outputs": [
    {
     "data": {
      "image/png": "[encoded data removed]",
      "text/plain": [
       "<Figure size 432x288 with 1 Axes>"
      ]
     },
     "metadata": {
      "needs_background": "light"
     },
     "output_type": "display_data"
    }
   ],
   "source": [
    "pd.DataFrame(X, columns=[\"x1\", \"x2\"]).plot.scatter(x=\"x1\", y=\"x2\", c=y, cmap=\"Dark2\", colorbar=False)\n",
    "plt.show()"
   ]
  },
  {
   "cell_type": "code",
   "execution_count": 45,
   "id": "bb249b54",
   "metadata": {},
   "outputs": [],
   "source": [
    "X_train, X_test, y_train, y_test = train_test_split(X, y, random_state=42)"
   ]
  },
  {
   "cell_type": "code",
   "execution_count": 46,
   "id": "dbd271a8",
   "metadata": {},
   "outputs": [
    {
     "name": "stdout",
     "output_type": "stream",
     "text": [
      "8/8 [==============================] - 0s 1ms/step - loss: 0.5451 - accuracy: 0.6800\n"
     ]
    },
    {
     "data": {
      "text/plain": [
       "[0.5450977683067322, 0.6800000071525574]"
      ]
     },
     "execution_count": 46,
     "metadata": {},
     "output_type": "execute_result"
    }
   ],
   "source": [
    "model = keras.models.Sequential([\n",
    "    keras.layers.Input(shape=[2]),\n",
    "    keras.layers.Dense(4, activation=\"relu\"),\n",
    "    keras.layers.Dense(4, activation=\"relu\"),     ## Since this is a binary classification tasks, the output layer will have 1 layer ...\n",
    "    keras.layers.Dense(1, activation=\"sigmoid\")   ## ... with a sigmoid activation function to output probabilities from 0 to 1. \n",
    "])\n",
    "\n",
    "model.compile(loss=keras.losses.BinaryCrossentropy(),\n",
    "             optimizer=keras.optimizers.Adam(0.1),\n",
    "             metrics=[\"accuracy\"])\n",
    "\n",
    "history = model.fit(X_train, y_train, epochs=100, verbose=0) ## verbose=0 prevents printing the training process, default is 1\n",
    "model.evaluate(X_test, y_test)"
   ]
  },
  {
   "cell_type": "markdown",
   "id": "e7b1882e-a54c-430a-af92-58d17add9410",
   "metadata": {},
   "source": [
    "The metrics we use, accuracy, is 52%. This means the model is 52% accurate in distinguishing between green and black data points."
   ]
  },
  {
   "cell_type": "markdown",
   "id": "927f6fb2",
   "metadata": {},
   "source": [
    "## Plot Decision Boundary"
   ]
  },
  {
   "cell_type": "code",
   "execution_count": 47,
   "id": "43105a33",
   "metadata": {},
   "outputs": [],
   "source": [
    "import numpy as np\n",
    "\n",
    "def plot_decision_boundary(model, X, y):\n",
    "    \"\"\"\n",
    "    Plots the decision boundary created by a model predicting on X.\n",
    "    This function has been adapted from two phenomenal resources:\n",
    "    1. CS231n - https://cs231n.github.io/neural-networks-case-study/\n",
    "    2. Made with ML basics - https://github.com/madewithml/basics/blob/master/notebooks/09_Multilayer_Perceptrons/09_TF_Multilayer_Perceptrons.ipynb\n",
    "    \"\"\"\n",
    "    # Define the axis boundaries of the plot and create a meshgrid\n",
    "    x_min, x_max = X[:, 0].min() - 0.1, X[:, 0].max() + 0.1\n",
    "    y_min, y_max = X[:, 1].min() - 0.1, X[:, 1].max() + 0.1\n",
    "    xx, yy = np.meshgrid(np.linspace(x_min, x_max, 100),\n",
    "                       np.linspace(y_min, y_max, 100))\n",
    "\n",
    "    # Create X values (we're going to predict on all of these)\n",
    "    x_in = np.c_[xx.ravel(), yy.ravel()] # stack 2D arrays together: https://numpy.org/devdocs/reference/generated/numpy.c_.html\n",
    "\n",
    "    # Make predictions using the trained model\n",
    "    y_pred = model.predict(x_in)\n",
    "\n",
    "    # Check for multi-class\n",
    "    if len(y_pred[0]) > 1:\n",
    "        print(\"doing multiclass classification...\")\n",
    "    # We have to reshape our predictions to get them ready for plotting\n",
    "        y_pred = np.argmax(y_pred, axis=1).reshape(xx.shape)\n",
    "    else:\n",
    "        print(\"doing binary classifcation...\")\n",
    "        y_pred = np.round(y_pred).reshape(xx.shape)\n",
    "    \n",
    "    # Plot decision boundary\n",
    "    plt.contourf(xx, yy, y_pred, cmap=\"Dark2\", alpha=0.7)\n",
    "    plt.scatter(X[:, 0], X[:, 1], c=y, s=40, cmap=\"Dark2\")\n",
    "    plt.xlim(xx.min(), xx.max())\n",
    "    plt.ylim(yy.min(), yy.max())"
   ]
  },
  {
   "cell_type": "code",
   "execution_count": 48,
   "id": "8b4991d6",
   "metadata": {},
   "outputs": [
    {
     "name": "stdout",
     "output_type": "stream",
     "text": [
      "doing binary classifcation...\n"
     ]
    },
    {
     "data": {
      "image/png": "[encoded data removed]",
      "text/plain": [
       "<Figure size 432x288 with 1 Axes>"
      ]
     },
     "metadata": {
      "needs_background": "light"
     },
     "output_type": "display_data"
    }
   ],
   "source": [
    "plot_decision_boundary(model=model, X=X, y=y)"
   ]
  },
  {
   "cell_type": "markdown",
   "id": "fdf9b256-04ba-4ee4-8313-042d54a90f98",
   "metadata": {},
   "source": [
    "This model is unable to distinguish between decision boundaries, the boundary is all blue for both classes of points. "
   ]
  },
  {
   "cell_type": "code",
   "execution_count": 49,
   "id": "02251794",
   "metadata": {},
   "outputs": [
    {
     "data": {
      "image/png": "[encoded data removed]",
      "text/plain": [
       "<Figure size 432x288 with 1 Axes>"
      ]
     },
     "metadata": {
      "needs_background": "light"
     },
     "output_type": "display_data"
    }
   ],
   "source": [
    "pd.DataFrame(history.history).plot()\n",
    "plt.title(\"Model Loss Curve\")\n",
    "plt.show()"
   ]
  },
  {
   "cell_type": "markdown",
   "id": "d5a22c11",
   "metadata": {},
   "source": [
    "### Parameter Tuning - Finding the best learning rates"
   ]
  },
  {
   "cell_type": "markdown",
   "id": "220dcac8-5078-4b10-b864-7702cdfa5cee",
   "metadata": {},
   "source": [
    "The idea of learning rate tuning is to find the optimum rate at which the loss decrease is the steepest, i.e. fastest to reach model convergence. To do this, we need to decrease the learning rate while the model is training. This is where **callbacks** come in. **Callbacks** are functions added to the model that are called while the model is training."
   ]
  },
  {
   "cell_type": "code",
   "execution_count": 50,
   "id": "afaf1597",
   "metadata": {},
   "outputs": [
    {
     "name": "stdout",
     "output_type": "stream",
     "text": [
      "Epoch 1/100\n",
      "\n",
      "Epoch 00001: LearningRateScheduler reducing learning rate to 0.0001.\n",
      "24/24 [==============================] - 0s 999us/step - loss: 0.6911 - accuracy: 0.4935\n",
      "Epoch 2/100\n",
      "\n",
      "Epoch 00002: LearningRateScheduler reducing learning rate to 0.00011220184543019634.\n",
      "24/24 [==============================] - 0s 1ms/step - loss: 0.6924 - accuracy: 0.4905\n",
      "Epoch 3/100\n",
      "\n",
      "Epoch 00003: LearningRateScheduler reducing learning rate to 0.00012589254117941674.\n",
      "24/24 [==============================] - 0s 1ms/step - loss: 0.6927 - accuracy: 0.4972\n",
      "Epoch 4/100\n",
      "\n",
      "Epoch 00004: LearningRateScheduler reducing learning rate to 0.00014125375446227543.\n",
      "24/24 [==============================] - 0s 1ms/step - loss: 0.6995 - accuracy: 0.4671\n",
      "Epoch 5/100\n",
      "\n",
      "Epoch 00005: LearningRateScheduler reducing learning rate to 0.00015848931924611136.\n",
      "24/24 [==============================] - 0s 1ms/step - loss: 0.6848 - accuracy: 0.5123\n",
      "Epoch 6/100\n",
      "\n",
      "Epoch 00006: LearningRateScheduler reducing learning rate to 0.0001778279410038923.\n",
      "24/24 [==============================] - 0s 1ms/step - loss: 0.6883 - accuracy: 0.5046\n",
      "Epoch 7/100\n",
      "\n",
      "Epoch 00007: LearningRateScheduler reducing learning rate to 0.00019952623149688796.\n",
      "24/24 [==============================] - 0s 1ms/step - loss: 0.7006 - accuracy: 0.4630\n",
      "Epoch 8/100\n",
      "\n",
      "Epoch 00008: LearningRateScheduler reducing learning rate to 0.00022387211385683394.\n",
      "24/24 [==============================] - 0s 1ms/step - loss: 0.6913 - accuracy: 0.5076\n",
      "Epoch 9/100\n",
      "\n",
      "Epoch 00009: LearningRateScheduler reducing learning rate to 0.000251188643150958.\n",
      "24/24 [==============================] - 0s 1ms/step - loss: 0.6858 - accuracy: 0.5261\n",
      "Epoch 10/100\n",
      "\n",
      "Epoch 00010: LearningRateScheduler reducing learning rate to 0.0002818382931264454.\n",
      "24/24 [==============================] - 0s 1ms/step - loss: 0.6856 - accuracy: 0.5034\n",
      "Epoch 11/100\n",
      "\n",
      "Epoch 00011: LearningRateScheduler reducing learning rate to 0.000316227766016838.\n",
      "24/24 [==============================] - 0s 1000us/step - loss: 0.6852 - accuracy: 0.5186\n",
      "Epoch 12/100\n",
      "\n",
      "Epoch 00012: LearningRateScheduler reducing learning rate to 0.00035481338923357554.\n",
      "24/24 [==============================] - 0s 1ms/step - loss: 0.6772 - accuracy: 0.5532\n",
      "Epoch 13/100\n",
      "\n",
      "Epoch 00013: LearningRateScheduler reducing learning rate to 0.00039810717055349724.\n",
      "24/24 [==============================] - 0s 1ms/step - loss: 0.6893 - accuracy: 0.5056\n",
      "Epoch 14/100\n",
      "\n",
      "Epoch 00014: LearningRateScheduler reducing learning rate to 0.0004466835921509632.\n",
      "24/24 [==============================] - 0s 1000us/step - loss: 0.6844 - accuracy: 0.5345\n",
      "Epoch 15/100\n",
      "\n",
      "Epoch 00015: LearningRateScheduler reducing learning rate to 0.0005011872336272722.\n",
      "24/24 [==============================] - 0s 1ms/step - loss: 0.6882 - accuracy: 0.5001\n",
      "Epoch 16/100\n",
      "\n",
      "Epoch 00016: LearningRateScheduler reducing learning rate to 0.0005623413251903491.\n",
      "24/24 [==============================] - 0s 1ms/step - loss: 0.6821 - accuracy: 0.5285\n",
      "Epoch 17/100\n",
      "\n",
      "Epoch 00017: LearningRateScheduler reducing learning rate to 0.0006309573444801934.\n",
      "24/24 [==============================] - 0s 1ms/step - loss: 0.6814 - accuracy: 0.5177\n",
      "Epoch 18/100\n",
      "\n",
      "Epoch 00018: LearningRateScheduler reducing learning rate to 0.0007079457843841379.\n",
      "24/24 [==============================] - 0s 913us/step - loss: 0.6837 - accuracy: 0.5141\n",
      "Epoch 19/100\n",
      "\n",
      "Epoch 00019: LearningRateScheduler reducing learning rate to 0.0007943282347242816.\n",
      "24/24 [==============================] - 0s 1ms/step - loss: 0.6792 - accuracy: 0.5413\n",
      "Epoch 20/100\n",
      "\n",
      "Epoch 00020: LearningRateScheduler reducing learning rate to 0.0008912509381337455.\n",
      "24/24 [==============================] - 0s 1ms/step - loss: 0.6814 - accuracy: 0.5345\n",
      "Epoch 21/100\n",
      "\n",
      "Epoch 00021: LearningRateScheduler reducing learning rate to 0.001.\n",
      "24/24 [==============================] - 0s 956us/step - loss: 0.6805 - accuracy: 0.5359\n",
      "Epoch 22/100\n",
      "\n",
      "Epoch 00022: LearningRateScheduler reducing learning rate to 0.0011220184543019637.\n",
      "24/24 [==============================] - 0s 1000us/step - loss: 0.6779 - accuracy: 0.5488\n",
      "Epoch 23/100\n",
      "\n",
      "Epoch 00023: LearningRateScheduler reducing learning rate to 0.0012589254117941675.\n",
      "24/24 [==============================] - 0s 1000us/step - loss: 0.6804 - accuracy: 0.5399\n",
      "Epoch 24/100\n",
      "\n",
      "Epoch 00024: LearningRateScheduler reducing learning rate to 0.0014125375446227542.\n",
      "24/24 [==============================] - 0s 958us/step - loss: 0.6769 - accuracy: 0.5655\n",
      "Epoch 25/100\n",
      "\n",
      "Epoch 00025: LearningRateScheduler reducing learning rate to 0.0015848931924611134.\n",
      "24/24 [==============================] - 0s 1000us/step - loss: 0.6791 - accuracy: 0.5353\n",
      "Epoch 26/100\n",
      "\n",
      "Epoch 00026: LearningRateScheduler reducing learning rate to 0.001778279410038923.\n",
      "24/24 [==============================] - 0s 826us/step - loss: 0.6753 - accuracy: 0.5725\n",
      "Epoch 27/100\n",
      "\n",
      "Epoch 00027: LearningRateScheduler reducing learning rate to 0.00199526231496888.\n",
      "24/24 [==============================] - 0s 869us/step - loss: 0.6749 - accuracy: 0.5603\n",
      "Epoch 28/100\n",
      "\n",
      "Epoch 00028: LearningRateScheduler reducing learning rate to 0.0022387211385683403.\n",
      "24/24 [==============================] - 0s 826us/step - loss: 0.6713 - accuracy: 0.5736\n",
      "Epoch 29/100\n",
      "\n",
      "Epoch 00029: LearningRateScheduler reducing learning rate to 0.0025118864315095794.\n",
      "24/24 [==============================] - 0s 826us/step - loss: 0.6721 - accuracy: 0.5648\n",
      "Epoch 30/100\n",
      "\n",
      "Epoch 00030: LearningRateScheduler reducing learning rate to 0.0028183829312644535.\n",
      "24/24 [==============================] - 0s 826us/step - loss: 0.6716 - accuracy: 0.5688\n",
      "Epoch 31/100\n",
      "\n",
      "Epoch 00031: LearningRateScheduler reducing learning rate to 0.0031622776601683794.\n",
      "24/24 [==============================] - 0s 912us/step - loss: 0.6731 - accuracy: 0.5744\n",
      "Epoch 32/100\n",
      "\n",
      "Epoch 00032: LearningRateScheduler reducing learning rate to 0.003548133892335755.\n",
      "24/24 [==============================] - 0s 868us/step - loss: 0.6726 - accuracy: 0.5615\n",
      "Epoch 33/100\n",
      "\n",
      "Epoch 00033: LearningRateScheduler reducing learning rate to 0.003981071705534973.\n",
      "24/24 [==============================] - 0s 956us/step - loss: 0.6603 - accuracy: 0.6049\n",
      "Epoch 34/100\n",
      "\n",
      "Epoch 00034: LearningRateScheduler reducing learning rate to 0.0044668359215096305.\n",
      "24/24 [==============================] - 0s 913us/step - loss: 0.6620 - accuracy: 0.5908\n",
      "Epoch 35/100\n",
      "\n",
      "Epoch 00035: LearningRateScheduler reducing learning rate to 0.005011872336272723.\n",
      "24/24 [==============================] - 0s 913us/step - loss: 0.6581 - accuracy: 0.5925\n",
      "Epoch 36/100\n",
      "\n",
      "Epoch 00036: LearningRateScheduler reducing learning rate to 0.005623413251903491.\n",
      "24/24 [==============================] - 0s 870us/step - loss: 0.6571 - accuracy: 0.5867\n",
      "Epoch 37/100\n",
      "\n",
      "Epoch 00037: LearningRateScheduler reducing learning rate to 0.006309573444801933.\n",
      "24/24 [==============================] - 0s 1ms/step - loss: 0.6509 - accuracy: 0.5781\n",
      "Epoch 38/100\n",
      "\n",
      "Epoch 00038: LearningRateScheduler reducing learning rate to 0.007079457843841381.\n",
      "24/24 [==============================] - 0s 957us/step - loss: 0.6455 - accuracy: 0.6346\n",
      "Epoch 39/100\n",
      "\n",
      "Epoch 00039: LearningRateScheduler reducing learning rate to 0.007943282347242814.\n",
      "24/24 [==============================] - 0s 913us/step - loss: 0.6358 - accuracy: 0.6313\n",
      "Epoch 40/100\n",
      "\n",
      "Epoch 00040: LearningRateScheduler reducing learning rate to 0.008912509381337455.\n",
      "24/24 [==============================] - 0s 870us/step - loss: 0.6090 - accuracy: 0.7232\n",
      "Epoch 41/100\n",
      "\n",
      "Epoch 00041: LearningRateScheduler reducing learning rate to 0.01.\n",
      "24/24 [==============================] - 0s 870us/step - loss: 0.5809 - accuracy: 0.7200\n",
      "Epoch 42/100\n",
      "\n",
      "Epoch 00042: LearningRateScheduler reducing learning rate to 0.01122018454301963.\n",
      "24/24 [==============================] - 0s 956us/step - loss: 0.5238 - accuracy: 0.7879\n",
      "Epoch 43/100\n",
      "\n",
      "Epoch 00043: LearningRateScheduler reducing learning rate to 0.012589254117941677.\n",
      "24/24 [==============================] - 0s 870us/step - loss: 0.4852 - accuracy: 0.8003\n",
      "Epoch 44/100\n",
      "\n",
      "Epoch 00044: LearningRateScheduler reducing learning rate to 0.01412537544622754.\n",
      "24/24 [==============================] - 0s 957us/step - loss: 0.3761 - accuracy: 0.9018\n",
      "Epoch 45/100\n",
      "\n",
      "Epoch 00045: LearningRateScheduler reducing learning rate to 0.01584893192461114.\n",
      "24/24 [==============================] - 0s 913us/step - loss: 0.2861 - accuracy: 0.9649\n",
      "Epoch 46/100\n",
      "\n",
      "Epoch 00046: LearningRateScheduler reducing learning rate to 0.01778279410038923.\n",
      "24/24 [==============================] - 0s 956us/step - loss: 0.2196 - accuracy: 0.9560\n",
      "Epoch 47/100\n",
      "\n",
      "Epoch 00047: LearningRateScheduler reducing learning rate to 0.01995262314968879.\n",
      "24/24 [==============================] - 0s 870us/step - loss: 0.1651 - accuracy: 0.9695\n",
      "Epoch 48/100\n",
      "\n",
      "Epoch 00048: LearningRateScheduler reducing learning rate to 0.022387211385683402.\n",
      "24/24 [==============================] - 0s 1ms/step - loss: 0.1418 - accuracy: 0.9638\n",
      "Epoch 49/100\n",
      "\n",
      "Epoch 00049: LearningRateScheduler reducing learning rate to 0.025118864315095798.\n",
      "24/24 [==============================] - 0s 1000us/step - loss: 0.1210 - accuracy: 0.9746\n",
      "Epoch 50/100\n",
      "\n",
      "Epoch 00050: LearningRateScheduler reducing learning rate to 0.02818382931264455.\n",
      "24/24 [==============================] - 0s 913us/step - loss: 0.0818 - accuracy: 0.9802\n",
      "Epoch 51/100\n",
      "\n",
      "Epoch 00051: LearningRateScheduler reducing learning rate to 0.0316227766016838.\n",
      "24/24 [==============================] - 0s 913us/step - loss: 0.1104 - accuracy: 0.9706\n",
      "Epoch 52/100\n",
      "\n",
      "Epoch 00052: LearningRateScheduler reducing learning rate to 0.03548133892335753.\n",
      "24/24 [==============================] - 0s 869us/step - loss: 0.1239 - accuracy: 0.9533\n",
      "Epoch 53/100\n",
      "\n",
      "Epoch 00053: LearningRateScheduler reducing learning rate to 0.039810717055349734.\n",
      "24/24 [==============================] - 0s 870us/step - loss: 0.0813 - accuracy: 0.9755\n",
      "Epoch 54/100\n",
      "\n",
      "Epoch 00054: LearningRateScheduler reducing learning rate to 0.04466835921509631.\n",
      "24/24 [==============================] - 0s 870us/step - loss: 0.0918 - accuracy: 0.9661\n",
      "Epoch 55/100\n",
      "\n",
      "Epoch 00055: LearningRateScheduler reducing learning rate to 0.05011872336272725.\n",
      "24/24 [==============================] - 0s 826us/step - loss: 0.1600 - accuracy: 0.9297\n",
      "Epoch 56/100\n",
      "\n",
      "Epoch 00056: LearningRateScheduler reducing learning rate to 0.056234132519034905.\n",
      "24/24 [==============================] - 0s 869us/step - loss: 0.1056 - accuracy: 0.9534\n",
      "Epoch 57/100\n",
      "\n",
      "Epoch 00057: LearningRateScheduler reducing learning rate to 0.0630957344480193.\n",
      "24/24 [==============================] - 0s 957us/step - loss: 0.0998 - accuracy: 0.9544\n",
      "Epoch 58/100\n",
      "\n",
      "Epoch 00058: LearningRateScheduler reducing learning rate to 0.0707945784384138.\n",
      "24/24 [==============================] - 0s 870us/step - loss: 0.1722 - accuracy: 0.9254\n",
      "Epoch 59/100\n",
      "\n",
      "Epoch 00059: LearningRateScheduler reducing learning rate to 0.07943282347242814.\n",
      "24/24 [==============================] - 0s 869us/step - loss: 0.1431 - accuracy: 0.9389\n",
      "Epoch 60/100\n",
      "\n",
      "Epoch 00060: LearningRateScheduler reducing learning rate to 0.08912509381337459.\n",
      "24/24 [==============================] - 0s 826us/step - loss: 0.1851 - accuracy: 0.9318\n",
      "Epoch 61/100\n",
      "\n",
      "Epoch 00061: LearningRateScheduler reducing learning rate to 0.1.\n",
      "24/24 [==============================] - 0s 870us/step - loss: 0.0473 - accuracy: 0.9910\n",
      "Epoch 62/100\n",
      "\n",
      "Epoch 00062: LearningRateScheduler reducing learning rate to 0.1122018454301963.\n",
      "24/24 [==============================] - 0s 913us/step - loss: 0.0231 - accuracy: 0.9996\n",
      "Epoch 63/100\n",
      "\n",
      "Epoch 00063: LearningRateScheduler reducing learning rate to 0.12589254117941676.\n",
      "24/24 [==============================] - 0s 1ms/step - loss: 0.0922 - accuracy: 0.9669\n",
      "Epoch 64/100\n",
      "\n",
      "Epoch 00064: LearningRateScheduler reducing learning rate to 0.14125375446227542.\n",
      "24/24 [==============================] - 0s 956us/step - loss: 0.1857 - accuracy: 0.9447\n",
      "Epoch 65/100\n",
      "\n",
      "Epoch 00065: LearningRateScheduler reducing learning rate to 0.1584893192461114.\n",
      "24/24 [==============================] - 0s 827us/step - loss: 0.0839 - accuracy: 0.9695\n",
      "Epoch 66/100\n",
      "\n",
      "Epoch 00066: LearningRateScheduler reducing learning rate to 0.1778279410038923.\n",
      "24/24 [==============================] - 0s 827us/step - loss: 0.2849 - accuracy: 0.9069\n",
      "Epoch 67/100\n",
      "\n",
      "Epoch 00067: LearningRateScheduler reducing learning rate to 0.1995262314968879.\n",
      "24/24 [==============================] - 0s 913us/step - loss: 0.1379 - accuracy: 0.9472\n",
      "Epoch 68/100\n",
      "\n",
      "Epoch 00068: LearningRateScheduler reducing learning rate to 0.223872113856834.\n",
      "24/24 [==============================] - 0s 870us/step - loss: 0.0683 - accuracy: 0.9754\n",
      "Epoch 69/100\n",
      "\n",
      "Epoch 00069: LearningRateScheduler reducing learning rate to 0.251188643150958.\n",
      "24/24 [==============================] - 0s 783us/step - loss: 0.5715 - accuracy: 0.8588\n",
      "Epoch 70/100\n",
      "\n",
      "Epoch 00070: LearningRateScheduler reducing learning rate to 0.2818382931264455.\n",
      "24/24 [==============================] - 0s 783us/step - loss: 0.2155 - accuracy: 0.9167\n",
      "Epoch 71/100\n",
      "\n",
      "Epoch 00071: LearningRateScheduler reducing learning rate to 0.31622776601683794.\n",
      "24/24 [==============================] - 0s 870us/step - loss: 0.3883 - accuracy: 0.8518\n",
      "Epoch 72/100\n",
      "\n",
      "Epoch 00072: LearningRateScheduler reducing learning rate to 0.3548133892335753.\n",
      "24/24 [==============================] - 0s 783us/step - loss: 0.1591 - accuracy: 0.9405\n",
      "Epoch 73/100\n",
      "\n",
      "Epoch 00073: LearningRateScheduler reducing learning rate to 0.39810717055349737.\n",
      "24/24 [==============================] - 0s 956us/step - loss: 0.5197 - accuracy: 0.8241\n",
      "Epoch 74/100\n",
      "\n",
      "Epoch 00074: LearningRateScheduler reducing learning rate to 0.4466835921509631.\n",
      "24/24 [==============================] - 0s 999us/step - loss: 0.1374 - accuracy: 0.9416\n",
      "Epoch 75/100\n",
      "\n",
      "Epoch 00075: LearningRateScheduler reducing learning rate to 0.5011872336272726.\n",
      "24/24 [==============================] - 0s 956us/step - loss: 0.3164 - accuracy: 0.9052\n",
      "Epoch 76/100\n",
      "\n",
      "Epoch 00076: LearningRateScheduler reducing learning rate to 0.5623413251903492.\n",
      "24/24 [==============================] - 0s 1ms/step - loss: 0.2368 - accuracy: 0.9074\n",
      "Epoch 77/100\n",
      "\n",
      "Epoch 00077: LearningRateScheduler reducing learning rate to 0.630957344480193.\n",
      "24/24 [==============================] - 0s 870us/step - loss: 0.4927 - accuracy: 0.8128\n",
      "Epoch 78/100\n",
      "\n",
      "Epoch 00078: LearningRateScheduler reducing learning rate to 0.7079457843841381.\n",
      "24/24 [==============================] - 0s 870us/step - loss: 0.5617 - accuracy: 0.6776\n",
      "Epoch 79/100\n",
      "\n",
      "Epoch 00079: LearningRateScheduler reducing learning rate to 0.7943282347242814.\n",
      "24/24 [==============================] - 0s 870us/step - loss: 0.5080 - accuracy: 0.7854\n",
      "Epoch 80/100\n",
      "\n",
      "Epoch 00080: LearningRateScheduler reducing learning rate to 0.8912509381337459.\n",
      "24/24 [==============================] - 0s 870us/step - loss: 0.5448 - accuracy: 0.6833\n",
      "Epoch 81/100\n",
      "\n",
      "Epoch 00081: LearningRateScheduler reducing learning rate to 1.0.\n",
      "24/24 [==============================] - 0s 956us/step - loss: 0.7005 - accuracy: 0.4675\n",
      "Epoch 82/100\n",
      "\n",
      "Epoch 00082: LearningRateScheduler reducing learning rate to 1.1220184543019631.\n",
      "24/24 [==============================] - 0s 914us/step - loss: 0.7245 - accuracy: 0.4869\n",
      "Epoch 83/100\n",
      "\n",
      "Epoch 00083: LearningRateScheduler reducing learning rate to 1.2589254117941662.\n",
      "24/24 [==============================] - 0s 1ms/step - loss: 0.7171 - accuracy: 0.5043\n",
      "Epoch 84/100\n",
      "\n",
      "Epoch 00084: LearningRateScheduler reducing learning rate to 1.4125375446227555.\n",
      "24/24 [==============================] - 0s 1ms/step - loss: 0.7254 - accuracy: 0.5316\n",
      "Epoch 85/100\n",
      "\n",
      "Epoch 00085: LearningRateScheduler reducing learning rate to 1.5848931924611143.\n",
      "24/24 [==============================] - 0s 1ms/step - loss: 0.7222 - accuracy: 0.4794\n",
      "Epoch 86/100\n",
      "\n",
      "Epoch 00086: LearningRateScheduler reducing learning rate to 1.7782794100389228.\n",
      "24/24 [==============================] - 0s 957us/step - loss: 0.7675 - accuracy: 0.5070\n",
      "Epoch 87/100\n",
      "\n",
      "Epoch 00087: LearningRateScheduler reducing learning rate to 1.9952623149688788.\n",
      "24/24 [==============================] - 0s 869us/step - loss: 0.7090 - accuracy: 0.4978\n",
      "Epoch 88/100\n",
      "\n",
      "Epoch 00088: LearningRateScheduler reducing learning rate to 2.238721138568338.\n",
      "24/24 [==============================] - 0s 783us/step - loss: 0.7156 - accuracy: 0.4773\n",
      "Epoch 89/100\n",
      "\n",
      "Epoch 00089: LearningRateScheduler reducing learning rate to 2.5118864315095824.\n",
      "24/24 [==============================] - 0s 913us/step - loss: 0.7195 - accuracy: 0.4913\n",
      "Epoch 90/100\n",
      "\n",
      "Epoch 00090: LearningRateScheduler reducing learning rate to 2.818382931264455.\n",
      "24/24 [==============================] - 0s 1ms/step - loss: 0.7848 - accuracy: 0.4820\n",
      "Epoch 91/100\n",
      "\n",
      "Epoch 00091: LearningRateScheduler reducing learning rate to 3.1622776601683795.\n",
      "24/24 [==============================] - 0s 1ms/step - loss: 0.7650 - accuracy: 0.5082\n",
      "Epoch 92/100\n",
      "\n",
      "Epoch 00092: LearningRateScheduler reducing learning rate to 3.5481338923357533.\n",
      "24/24 [==============================] - 0s 1000us/step - loss: 0.8412 - accuracy: 0.4915\n",
      "Epoch 93/100\n",
      "\n",
      "Epoch 00093: LearningRateScheduler reducing learning rate to 3.981071705534969.\n",
      "24/24 [==============================] - 0s 870us/step - loss: 0.7317 - accuracy: 0.5150\n",
      "Epoch 94/100\n",
      "\n",
      "Epoch 00094: LearningRateScheduler reducing learning rate to 4.4668359215096345.\n",
      "24/24 [==============================] - 0s 915us/step - loss: 0.7265 - accuracy: 0.4614\n",
      "Epoch 95/100\n",
      "\n",
      "Epoch 00095: LearningRateScheduler reducing learning rate to 5.0118723362727255.\n",
      "24/24 [==============================] - 0s 826us/step - loss: 0.7229 - accuracy: 0.5329\n",
      "Epoch 96/100\n",
      "\n",
      "Epoch 00096: LearningRateScheduler reducing learning rate to 5.623413251903491.\n",
      "24/24 [==============================] - 0s 912us/step - loss: 0.7400 - accuracy: 0.5087\n",
      "Epoch 97/100\n",
      "\n",
      "Epoch 00097: LearningRateScheduler reducing learning rate to 6.30957344480193.\n",
      "24/24 [==============================] - 0s 913us/step - loss: 0.8082 - accuracy: 0.4811\n",
      "Epoch 98/100\n",
      "\n",
      "Epoch 00098: LearningRateScheduler reducing learning rate to 7.079457843841374.\n",
      "24/24 [==============================] - 0s 870us/step - loss: 0.7808 - accuracy: 0.4800\n",
      "Epoch 99/100\n",
      "\n",
      "Epoch 00099: LearningRateScheduler reducing learning rate to 7.943282347242821.\n",
      "24/24 [==============================] - 0s 870us/step - loss: 0.8061 - accuracy: 0.5331\n",
      "Epoch 100/100\n",
      "\n",
      "Epoch 00100: LearningRateScheduler reducing learning rate to 8.91250938133746.\n",
      "24/24 [==============================] - 0s 870us/step - loss: 0.8695 - accuracy: 0.5031\n"
     ]
    }
   ],
   "source": [
    "tf.random.set_seed(42)\n",
    "\n",
    "## Build model\n",
    "model_01 = tf.keras.Sequential([\n",
    "    keras.layers.Dense(4, activation=\"relu\"),\n",
    "    keras.layers.Dense(4, activation=\"relu\"),\n",
    "    keras.layers.Dense(1, activation=\"sigmoid\"),\n",
    "])\n",
    "\n",
    "## Compile model\n",
    "model_01.compile(loss=\"binary_crossentropy\",\n",
    "                optimizer=\"Adam\",\n",
    "                metrics=[\"accuracy\"])\n",
    "\n",
    "## Learning Rate Callback\n",
    "lr_scheduler = keras.callbacks.LearningRateScheduler(lambda epoch: 1e-4 * 10**(epoch/20), ## The learning rate will start from 1e-4, then increases by ...\n",
    "                                                     verbose=1)                           ## ... 10 to the power of (epoch/20)\n",
    "\n",
    "## Train model\n",
    "history_01 = model_01.fit(X_train, y_train, epochs=100, callbacks=[lr_scheduler])"
   ]
  },
  {
   "cell_type": "code",
   "execution_count": 51,
   "id": "e6e5d1f6",
   "metadata": {},
   "outputs": [
    {
     "data": {
      "image/png": "[encoded data removed]",
      "text/plain": [
       "<Figure size 432x288 with 1 Axes>"
      ]
     },
     "metadata": {
      "needs_background": "light"
     },
     "output_type": "display_data"
    }
   ],
   "source": [
    "pd.DataFrame(history_01.history).plot()\n",
    "plt.xlabel(\"Epochs\")\n",
    "plt.show()"
   ]
  },
  {
   "cell_type": "code",
   "execution_count": 52,
   "id": "69f0fabc",
   "metadata": {},
   "outputs": [
    {
     "data": {
      "image/png": "[encoded data removed]",
      "text/plain": [
       "<Figure size 432x288 with 1 Axes>"
      ]
     },
     "metadata": {
      "needs_background": "light"
     },
     "output_type": "display_data"
    }
   ],
   "source": [
    "model_01_summary = pd.DataFrame(history_01.history)\n",
    "plt.semilogx(model_01_summary[\"lr\"], model_01_summary[\"loss\"])\n",
    "plt.xlabel(\"Learning Rate\")\n",
    "plt.ylabel(\"Loss\")\n",
    "plt.title(\"Learning Rate vs Loss\")\n",
    "plt.show()"
   ]
  },
  {
   "cell_type": "markdown",
   "id": "84ee9a06-23a6-49bb-b859-517f5fa190cd",
   "metadata": {},
   "source": [
    "A rule of thumb for picking the optimal value - 10 times smaller than the lowest point on the graph so that the loss is still decreasing and not leveled off. The lowest point is 0.1, so we should pick a learning rate of around 0.01."
   ]
  },
  {
   "cell_type": "code",
   "execution_count": 53,
   "id": "0e47d3a5",
   "metadata": {},
   "outputs": [
    {
     "name": "stdout",
     "output_type": "stream",
     "text": [
      "Epoch 1/20\n",
      "24/24 [==============================] - 0s 1ms/step - loss: 0.6867 - accuracy: 0.5178\n",
      "Epoch 2/20\n",
      "24/24 [==============================] - 0s 1000us/step - loss: 0.6760 - accuracy: 0.6151\n",
      "Epoch 3/20\n",
      "24/24 [==============================] - 0s 957us/step - loss: 0.6731 - accuracy: 0.5643\n",
      "Epoch 4/20\n",
      "24/24 [==============================] - 0s 957us/step - loss: 0.6682 - accuracy: 0.5916\n",
      "Epoch 5/20\n",
      "24/24 [==============================] - 0s 1000us/step - loss: 0.6570 - accuracy: 0.5735\n",
      "Epoch 6/20\n",
      "24/24 [==============================] - 0s 957us/step - loss: 0.6520 - accuracy: 0.6310\n",
      "Epoch 7/20\n",
      "24/24 [==============================] - 0s 1ms/step - loss: 0.6406 - accuracy: 0.6395\n",
      "Epoch 8/20\n",
      "24/24 [==============================] - 0s 870us/step - loss: 0.6147 - accuracy: 0.7254\n",
      "Epoch 9/20\n",
      "24/24 [==============================] - 0s 913us/step - loss: 0.5791 - accuracy: 0.7352\n",
      "Epoch 10/20\n",
      "24/24 [==============================] - 0s 1ms/step - loss: 0.5342 - accuracy: 0.7890\n",
      "Epoch 11/20\n",
      "24/24 [==============================] - 0s 1000us/step - loss: 0.4887 - accuracy: 0.8169\n",
      "Epoch 12/20\n",
      "24/24 [==============================] - 0s 957us/step - loss: 0.4294 - accuracy: 0.8895\n",
      "Epoch 13/20\n",
      "24/24 [==============================] - 0s 1ms/step - loss: 0.3834 - accuracy: 0.9289\n",
      "Epoch 14/20\n",
      "24/24 [==============================] - 0s 957us/step - loss: 0.3203 - accuracy: 0.9565\n",
      "Epoch 15/20\n",
      "24/24 [==============================] - 0s 826us/step - loss: 0.2853 - accuracy: 0.9590\n",
      "Epoch 16/20\n",
      "24/24 [==============================] - 0s 870us/step - loss: 0.2452 - accuracy: 0.9785\n",
      "Epoch 17/20\n",
      "24/24 [==============================] - 0s 957us/step - loss: 0.2081 - accuracy: 0.9772\n",
      "Epoch 18/20\n",
      "24/24 [==============================] - 0s 913us/step - loss: 0.1809 - accuracy: 0.9900\n",
      "Epoch 19/20\n",
      "24/24 [==============================] - 0s 1000us/step - loss: 0.1630 - accuracy: 0.9855\n",
      "Epoch 20/20\n",
      "24/24 [==============================] - 0s 869us/step - loss: 0.1508 - accuracy: 0.9833\n"
     ]
    }
   ],
   "source": [
    "tf.random.set_seed(42)\n",
    "\n",
    "## Build model\n",
    "model_02 = tf.keras.Sequential([\n",
    "    keras.layers.Dense(4, activation=\"relu\"),\n",
    "    keras.layers.Dense(4, activation=\"relu\"),\n",
    "    keras.layers.Dense(1, activation=\"sigmoid\"),\n",
    "])\n",
    "\n",
    "## Compile model\n",
    "model_02.compile(loss=\"binary_crossentropy\",\n",
    "                optimizer=keras.optimizers.Adam(lr=0.01),\n",
    "                metrics=[\"accuracy\"])\n",
    "\n",
    "## Learning Rate Callback\n",
    "#lr_scheduler = keras.callbacks.LearningRateScheduler(lambda epoch: 1e-4 * 10**(epoch/20))\n",
    "\n",
    "## Train model\n",
    "history_02 = model_02.fit(X_train, y_train, epochs=20)"
   ]
  },
  {
   "cell_type": "code",
   "execution_count": 54,
   "id": "57cff4e0",
   "metadata": {},
   "outputs": [
    {
     "name": "stdout",
     "output_type": "stream",
     "text": [
      "8/8 [==============================] - 0s 834us/step - loss: 0.1618 - accuracy: 0.9840\n"
     ]
    },
    {
     "data": {
      "text/plain": [
       "[0.1617555469274521, 0.984000027179718]"
      ]
     },
     "execution_count": 54,
     "metadata": {},
     "output_type": "execute_result"
    }
   ],
   "source": [
    "model_02.evaluate(X_test, y_test)"
   ]
  },
  {
   "cell_type": "markdown",
   "id": "8592251e-bba4-4d75-b111-d9ac754e453b",
   "metadata": {},
   "source": [
    "Just changing the learning rate, we increased the accuracy from around 50% to 98%! This shows the importance of finding a good learning rate. When the rate is too large, it may bounce around the optimal convergence point but never reach it as the step it takes are too large. When it's too small, it may take a really long time to converge as the steps are too small.\n",
    "Now let's plot the decision boundary once again."
   ]
  },
  {
   "cell_type": "code",
   "execution_count": 55,
   "id": "b1e9dca3",
   "metadata": {},
   "outputs": [
    {
     "name": "stdout",
     "output_type": "stream",
     "text": [
      "doing binary classifcation...\n",
      "doing binary classifcation...\n"
     ]
    },
    {
     "data": {
      "image/png": "[encoded data removed]",
      "text/plain": [
       "<Figure size 792x360 with 2 Axes>"
      ]
     },
     "metadata": {
      "needs_background": "light"
     },
     "output_type": "display_data"
    }
   ],
   "source": [
    "plt.figure(figsize=(11, 5))\n",
    "plt.subplot(1, 2, 1)\n",
    "plt.title(\"Training Set\")\n",
    "plot_decision_boundary(model_02, X_train, y_train)\n",
    "plt.subplot(1, 2, 2)\n",
    "plt.title(\"Testing Set\")\n",
    "plot_decision_boundary(model_02, X_test, y_test)\n",
    "plt.show()"
   ]
  },
  {
   "cell_type": "markdown",
   "id": "5b7ba393-9aa4-4d0f-89f7-df4c9070e073",
   "metadata": {},
   "source": [
    "Now the decision boundary sets clearly between the two classes of points, it also shows the ability of neural networks to model curved boundaries. This is mostly thanks to its activation functions that can transform linear data."
   ]
  },
  {
   "cell_type": "markdown",
   "id": "86eedb4b",
   "metadata": {},
   "source": [
    "### - Accuracy"
   ]
  },
  {
   "cell_type": "code",
   "execution_count": 56,
   "id": "c8d00a70",
   "metadata": {},
   "outputs": [
    {
     "name": "stdout",
     "output_type": "stream",
     "text": [
      "8/8 [==============================] - 0s 999us/step - loss: 0.1618 - accuracy: 0.9840\n",
      "Loss: 0.1617555469274521\n",
      "Accuracy: 98.40%\n"
     ]
    }
   ],
   "source": [
    "loss, accuracy = model_02.evaluate(X_test, y_test)\n",
    "print(f\"Loss: {loss}\")\n",
    "print(f\"Accuracy: {(accuracy*100):.2f}%\")"
   ]
  },
  {
   "cell_type": "markdown",
   "id": "0708c6dc",
   "metadata": {},
   "source": [
    "### - Confusion Matrix"
   ]
  },
  {
   "cell_type": "code",
   "execution_count": 57,
   "id": "2fd0e350",
   "metadata": {},
   "outputs": [
    {
     "data": {
      "text/plain": [
       "array([[127,   2],\n",
       "       [  2, 119]], dtype=int64)"
      ]
     },
     "execution_count": 57,
     "metadata": {},
     "output_type": "execute_result"
    }
   ],
   "source": [
    "from sklearn.metrics import confusion_matrix\n",
    "\n",
    "y_preds = np.round(model_02.predict(X_test))\n",
    "confusion_matrix(y_test, y_preds)"
   ]
  },
  {
   "cell_type": "code",
   "execution_count": 58,
   "id": "f29707b1",
   "metadata": {},
   "outputs": [],
   "source": [
    "# Note: The following confusion matrix code is a remix of Scikit-Learn's \n",
    "# plot_confusion_matrix function - https://scikit-learn.org/stable/modules/generated/sklearn.metrics.plot_confusion_matrix.html\n",
    "# and Made with ML's introductory notebook - https://github.com/madewithml/basics/blob/master/notebooks/09_Multilayer_Perceptrons/09_TF_Multilayer_Perceptrons.ipynb\n",
    "import itertools\n",
    "\n",
    "def make_confusion_matrix(y_true, y_pred, classes=None,figsize=(10, 10)):\n",
    "    # Create the confusion matrix\n",
    "    cm = confusion_matrix(y_true, tf.round(y_pred))\n",
    "    cm_norm = cm.astype(\"float\") / cm.sum(axis=1)[:, np.newaxis] # normalize it\n",
    "    n_classes = cm.shape[0]\n",
    "\n",
    "    # Let's prettify it\n",
    "    fig, ax = plt.subplots(figsize=figsize)\n",
    "    # Create a matrix plot\n",
    "    cax = ax.matshow(cm, cmap=plt.cm.Greens) # https://matplotlib.org/3.2.0/api/_as_gen/matplotlib.axes.Axes.matshow.html\n",
    "    fig.colorbar(cax)\n",
    "    \n",
    "    # Set labels to be classess\n",
    "    if classes:\n",
    "        labels = classes\n",
    "    else:\n",
    "        labels = np.arange(cm.shape[0])\n",
    "\n",
    "    # Label the axes\n",
    "    ax.set(title=\"Confusion Matrix\",\n",
    "           xlabel=\"Predicted label\",\n",
    "           ylabel=\"True label\",\n",
    "           xticks=np.arange(n_classes),\n",
    "           yticks=np.arange(n_classes),\n",
    "           xticklabels=labels,\n",
    "           yticklabels=labels)\n",
    "\n",
    "    # Set x-axis labels to bottom\n",
    "    ax.xaxis.set_label_position(\"bottom\")\n",
    "    ax.xaxis.tick_bottom()\n",
    "\n",
    "    # Adjust label size\n",
    "    ax.xaxis.label.set_size(15)\n",
    "    ax.yaxis.label.set_size(15)\n",
    "    ax.title.set_size(20)\n",
    "\n",
    "    # Set threshold for different colors\n",
    "    threshold = (cm.max() + cm.min()) / 2.\n",
    "\n",
    "    # Plot the text on each cell\n",
    "    for i, j in itertools.product(range(cm.shape[0]), range(cm.shape[1])):\n",
    "        plt.text(j, i, f\"{cm[i, j]} ({cm_norm[i, j]*100:.1f}%)\",\n",
    "                 horizontalalignment=\"center\",\n",
    "                 color=\"white\" if cm[i, j] > threshold else \"black\",\n",
    "                 size=10)"
   ]
  },
  {
   "cell_type": "code",
   "execution_count": 59,
   "id": "144f9ee3-61f4-4b35-905c-6027e7aa8e8c",
   "metadata": {},
   "outputs": [
    {
     "data": {
      "image/png": "[encoded data removed]",
      "text/plain": [
       "<Figure size 720x720 with 2 Axes>"
      ]
     },
     "metadata": {
      "needs_background": "light"
     },
     "output_type": "display_data"
    }
   ],
   "source": [
    "make_confusion_matrix(y_test, y_preds, [\"black\", \"green\"])"
   ]
  },
  {
   "cell_type": "markdown",
   "id": "695be45e",
   "metadata": {},
   "source": [
    "# Multiclass Classification - Fashion MNIST Dataset"
   ]
  },
  {
   "cell_type": "markdown",
   "id": "d8cbecd4-7a87-4404-87c4-f367a3f53dde",
   "metadata": {},
   "source": [
    "The `Fashion MNIST` dataset contains images of clothing items such as shirts, coats and shoes. The images are stored as arrays of pixels, and our goal is to classify them with neural network classification."
   ]
  },
  {
   "cell_type": "code",
   "execution_count": 60,
   "id": "c12802a4",
   "metadata": {},
   "outputs": [],
   "source": [
    "from tensorflow.keras.datasets import fashion_mnist\n",
    "\n",
    "(X_train, y_train), (X_test, y_test) = fashion_mnist.load_data()"
   ]
  },
  {
   "cell_type": "code",
   "execution_count": 61,
   "id": "516b671c",
   "metadata": {},
   "outputs": [],
   "source": [
    "class_names = ['T-shirt/top', 'Trouser', 'Pullover', 'Dress', 'Coat', \n",
    "               'Sandal', 'Shirt', 'Sneaker', 'Bag', 'Ankle boot']"
   ]
  },
  {
   "cell_type": "code",
   "execution_count": 62,
   "id": "4791ad95",
   "metadata": {},
   "outputs": [
    {
     "data": {
      "image/png": "[encoded data removed]",
      "text/plain": [
       "<Figure size 432x288 with 1 Axes>"
      ]
     },
     "metadata": {
      "needs_background": "light"
     },
     "output_type": "display_data"
    }
   ],
   "source": [
    "plt.imshow(X_train[0], cmap=\"binary\")\n",
    "plt.title(class_names[y_train[0]])\n",
    "plt.axis(\"off\")\n",
    "plt.show()"
   ]
  },
  {
   "cell_type": "code",
   "execution_count": 63,
   "id": "eac354a4",
   "metadata": {},
   "outputs": [
    {
     "data": {
      "image/png": "[encoded data removed]",
      "text/plain": [
       "<Figure size 504x504 with 4 Axes>"
      ]
     },
     "metadata": {
      "needs_background": "light"
     },
     "output_type": "display_data"
    }
   ],
   "source": [
    "import random\n",
    "plt.figure(figsize=(7, 7))\n",
    "for i in range(4):\n",
    "    ax = plt.subplot(2, 2, i+1)\n",
    "    rand_index = random.choice(range(len(X_train)))\n",
    "    plt.imshow(X_train[rand_index], cmap=\"binary\")\n",
    "    plt.title(class_names[y_train[rand_index]])\n",
    "    plt.axis(\"off\")\n",
    "plt.show()"
   ]
  },
  {
   "cell_type": "markdown",
   "id": "6fac56e9-7a48-49d4-94ec-a9889fdd116a",
   "metadata": {},
   "source": [
    "The images are stored as rdb arrays of rbg values, which scales from 0 to 255. So we divide the images by 255 to normalize them."
   ]
  },
  {
   "cell_type": "code",
   "execution_count": 64,
   "id": "79fee012",
   "metadata": {},
   "outputs": [],
   "source": [
    "X_train_norm = X_train/255\n",
    "X_test_norm = X_test/255"
   ]
  },
  {
   "cell_type": "code",
   "execution_count": 65,
   "id": "c5973808",
   "metadata": {},
   "outputs": [
    {
     "name": "stdout",
     "output_type": "stream",
     "text": [
      "Epoch 1/10\n",
      "1875/1875 [==============================] - 3s 1ms/step - loss: 1.0870 - accuracy: 0.6025\n",
      "Epoch 2/10\n",
      "1875/1875 [==============================] - 2s 1ms/step - loss: 0.4613 - accuracy: 0.8371\n",
      "Epoch 3/10\n",
      "1875/1875 [==============================] - 2s 1ms/step - loss: 0.4341 - accuracy: 0.8474\n",
      "Epoch 4/10\n",
      "1875/1875 [==============================] - 2s 1ms/step - loss: 0.4116 - accuracy: 0.8567\n",
      "Epoch 5/10\n",
      "1875/1875 [==============================] - 2s 1ms/step - loss: 0.4049 - accuracy: 0.8580\n",
      "Epoch 6/10\n",
      "1875/1875 [==============================] - 2s 1ms/step - loss: 0.4004 - accuracy: 0.8577\n",
      "Epoch 7/10\n",
      "1875/1875 [==============================] - 2s 1ms/step - loss: 0.3829 - accuracy: 0.8642\n",
      "Epoch 8/10\n",
      "1875/1875 [==============================] - 2s 1ms/step - loss: 0.3830 - accuracy: 0.8642\n",
      "Epoch 9/10\n",
      "1875/1875 [==============================] - 2s 1ms/step - loss: 0.3838 - accuracy: 0.8630\n",
      "Epoch 10/10\n",
      "1875/1875 [==============================] - 2s 1ms/step - loss: 0.3699 - accuracy: 0.8665\n",
      "313/313 [==============================] - 0s 875us/step - loss: 0.4222 - accuracy: 0.8513\n"
     ]
    },
    {
     "data": {
      "text/plain": [
       "[0.42218804359436035, 0.8513000011444092]"
      ]
     },
     "execution_count": 65,
     "metadata": {},
     "output_type": "execute_result"
    }
   ],
   "source": [
    "tf.random.set_seed(42)\n",
    "\n",
    "## Build Model\n",
    "mc_model = keras.models.Sequential([\n",
    "    keras.layers.Flatten(input_shape=(28, 28)),\n",
    "    keras.layers.Dense(10, activation=\"relu\"),\n",
    "    keras.layers.Dense(10, activation=\"relu\"),\n",
    "    keras.layers.Dense(10, activation=\"softmax\")   ## For multiclass classification tasks, we usually use softmax as the output layer, and 10 nodes for 10 classes\n",
    "])\n",
    "\n",
    "## Compile Model\n",
    "mc_model.compile(loss=keras.losses.sparse_categorical_crossentropy,\n",
    "                optimizer=keras.optimizers.Adam(),\n",
    "                metrics=[\"accuracy\"])\n",
    "\n",
    "## Fit model\n",
    "history_mc = mc_model.fit(X_train_norm, y_train, epochs=10)\n",
    "mc_model.evaluate(X_test_norm, y_test)"
   ]
  },
  {
   "cell_type": "code",
   "execution_count": 66,
   "id": "a2c95e04",
   "metadata": {},
   "outputs": [
    {
     "data": {
      "image/png": "[encoded data removed]",
      "text/plain": [
       "<Figure size 432x288 with 1 Axes>"
      ]
     },
     "metadata": {
      "needs_background": "light"
     },
     "output_type": "display_data"
    }
   ],
   "source": [
    "pd.DataFrame(history_mc.history).plot()\n",
    "plt.show()"
   ]
  },
  {
   "cell_type": "markdown",
   "id": "fa7bd13c",
   "metadata": {},
   "source": [
    "## Finding the best learning rate"
   ]
  },
  {
   "cell_type": "markdown",
   "id": "c2d0ab20-ca30-47da-ad07-27c775e39ac6",
   "metadata": {},
   "source": [
    "We will repeat what we did above to find the optimum learning rate."
   ]
  },
  {
   "cell_type": "code",
   "execution_count": 67,
   "id": "0dd23714-8869-4da9-968a-15feb36e2a24",
   "metadata": {},
   "outputs": [
    {
     "name": "stdout",
     "output_type": "stream",
     "text": [
      "Epoch 1/50\n",
      "\n",
      "Epoch 00001: LearningRateScheduler reducing learning rate to 0.001.\n",
      "1875/1875 [==============================] - 3s 1ms/step - loss: 1.0870 - accuracy: 0.6025 - val_loss: 0.5048 - val_accuracy: 0.8237\n",
      "Epoch 2/50\n",
      "\n",
      "Epoch 00002: LearningRateScheduler reducing learning rate to 0.0011220184543019635.\n",
      "1875/1875 [==============================] - 3s 1ms/step - loss: 0.4638 - accuracy: 0.8357 - val_loss: 0.5205 - val_accuracy: 0.8259\n",
      "Epoch 3/50\n",
      "\n",
      "Epoch 00003: LearningRateScheduler reducing learning rate to 0.0012589254117941673.\n",
      "1875/1875 [==============================] - 3s 1ms/step - loss: 0.4373 - accuracy: 0.8454 - val_loss: 0.4628 - val_accuracy: 0.8344\n",
      "Epoch 4/50\n",
      "\n",
      "Epoch 00004: LearningRateScheduler reducing learning rate to 0.0014125375446227544.\n",
      "1875/1875 [==============================] - 3s 1ms/step - loss: 0.4164 - accuracy: 0.8547 - val_loss: 0.4553 - val_accuracy: 0.8389\n",
      "Epoch 5/50\n",
      "\n",
      "Epoch 00005: LearningRateScheduler reducing learning rate to 0.0015848931924611136.\n",
      "1875/1875 [==============================] - 3s 1ms/step - loss: 0.4123 - accuracy: 0.8558 - val_loss: 0.4638 - val_accuracy: 0.8364\n",
      "Epoch 6/50\n",
      "\n",
      "Epoch 00006: LearningRateScheduler reducing learning rate to 0.0017782794100389228.\n",
      "1875/1875 [==============================] - 3s 1ms/step - loss: 0.4093 - accuracy: 0.8539 - val_loss: 0.4585 - val_accuracy: 0.8361\n",
      "Epoch 7/50\n",
      "\n",
      "Epoch 00007: LearningRateScheduler reducing learning rate to 0.0019952623149688794.\n",
      "1875/1875 [==============================] - 3s 1ms/step - loss: 0.3959 - accuracy: 0.8605 - val_loss: 0.4381 - val_accuracy: 0.8444\n",
      "Epoch 8/50\n",
      "\n",
      "Epoch 00008: LearningRateScheduler reducing learning rate to 0.0022387211385683395.\n",
      "1875/1875 [==============================] - 3s 1ms/step - loss: 0.3971 - accuracy: 0.8592 - val_loss: 0.4407 - val_accuracy: 0.8456\n",
      "Epoch 9/50\n",
      "\n",
      "Epoch 00009: LearningRateScheduler reducing learning rate to 0.0025118864315095803.\n",
      "1875/1875 [==============================] - 3s 1ms/step - loss: 0.3954 - accuracy: 0.8568 - val_loss: 0.4298 - val_accuracy: 0.8490\n",
      "Epoch 10/50\n",
      "\n",
      "Epoch 00010: LearningRateScheduler reducing learning rate to 0.002818382931264454.\n",
      "1875/1875 [==============================] - 3s 1ms/step - loss: 0.3872 - accuracy: 0.8585 - val_loss: 0.4694 - val_accuracy: 0.8396\n",
      "Epoch 11/50\n",
      "\n",
      "Epoch 00011: LearningRateScheduler reducing learning rate to 0.0031622776601683794.\n",
      "1875/1875 [==============================] - 3s 1ms/step - loss: 0.3880 - accuracy: 0.8589 - val_loss: 0.4402 - val_accuracy: 0.8448\n",
      "Epoch 12/50\n",
      "\n",
      "Epoch 00012: LearningRateScheduler reducing learning rate to 0.003548133892335755.\n",
      "1875/1875 [==============================] - 3s 1ms/step - loss: 0.3901 - accuracy: 0.8586 - val_loss: 0.4435 - val_accuracy: 0.8446\n",
      "Epoch 13/50\n",
      "\n",
      "Epoch 00013: LearningRateScheduler reducing learning rate to 0.0039810717055349725.\n",
      "1875/1875 [==============================] - 3s 1ms/step - loss: 0.3883 - accuracy: 0.8616 - val_loss: 0.4600 - val_accuracy: 0.8355\n",
      "Epoch 14/50\n",
      "\n",
      "Epoch 00014: LearningRateScheduler reducing learning rate to 0.004466835921509632.\n",
      "1875/1875 [==============================] - 3s 1ms/step - loss: 0.3854 - accuracy: 0.8610 - val_loss: 0.4621 - val_accuracy: 0.8318\n",
      "Epoch 15/50\n",
      "\n",
      "Epoch 00015: LearningRateScheduler reducing learning rate to 0.005011872336272722.\n",
      "1875/1875 [==============================] - 3s 1ms/step - loss: 0.3983 - accuracy: 0.8553 - val_loss: 0.4511 - val_accuracy: 0.8350\n",
      "Epoch 16/50\n",
      "\n",
      "Epoch 00016: LearningRateScheduler reducing learning rate to 0.005623413251903491.\n",
      "1875/1875 [==============================] - 3s 1ms/step - loss: 0.3918 - accuracy: 0.8607 - val_loss: 0.4458 - val_accuracy: 0.8443\n",
      "Epoch 17/50\n",
      "\n",
      "Epoch 00017: LearningRateScheduler reducing learning rate to 0.006309573444801934.\n",
      "1875/1875 [==============================] - 3s 1ms/step - loss: 0.3913 - accuracy: 0.8588 - val_loss: 0.4501 - val_accuracy: 0.8440\n",
      "Epoch 18/50\n",
      "\n",
      "Epoch 00018: LearningRateScheduler reducing learning rate to 0.007079457843841379.\n",
      "1875/1875 [==============================] - 3s 1ms/step - loss: 0.4019 - accuracy: 0.8554 - val_loss: 0.4326 - val_accuracy: 0.8496\n",
      "Epoch 19/50\n",
      "\n",
      "Epoch 00019: LearningRateScheduler reducing learning rate to 0.007943282347242816.\n",
      "1875/1875 [==============================] - 3s 1ms/step - loss: 0.4040 - accuracy: 0.8567 - val_loss: 0.4561 - val_accuracy: 0.8409\n",
      "Epoch 20/50\n",
      "\n",
      "Epoch 00020: LearningRateScheduler reducing learning rate to 0.008912509381337454.\n",
      "1875/1875 [==============================] - 3s 1ms/step - loss: 0.4093 - accuracy: 0.8537 - val_loss: 0.4451 - val_accuracy: 0.8454\n",
      "Epoch 21/50\n",
      "\n",
      "Epoch 00021: LearningRateScheduler reducing learning rate to 0.01.\n",
      "1875/1875 [==============================] - 3s 1ms/step - loss: 0.4095 - accuracy: 0.8546 - val_loss: 0.4763 - val_accuracy: 0.8344\n",
      "Epoch 22/50\n",
      "\n",
      "Epoch 00022: LearningRateScheduler reducing learning rate to 0.011220184543019636.\n",
      "1875/1875 [==============================] - 3s 1ms/step - loss: 0.4180 - accuracy: 0.8477 - val_loss: 0.4640 - val_accuracy: 0.8356\n",
      "Epoch 23/50\n",
      "\n",
      "Epoch 00023: LearningRateScheduler reducing learning rate to 0.012589254117941675.\n",
      "1875/1875 [==============================] - 2s 1ms/step - loss: 0.4314 - accuracy: 0.8486 - val_loss: 0.4999 - val_accuracy: 0.8292\n",
      "Epoch 24/50\n",
      "\n",
      "Epoch 00024: LearningRateScheduler reducing learning rate to 0.01412537544622754.\n",
      "1875/1875 [==============================] - 3s 1ms/step - loss: 0.4288 - accuracy: 0.8484 - val_loss: 0.4573 - val_accuracy: 0.8435\n",
      "Epoch 25/50\n",
      "\n",
      "Epoch 00025: LearningRateScheduler reducing learning rate to 0.015848931924611134.\n",
      "1875/1875 [==============================] - 3s 1ms/step - loss: 0.4461 - accuracy: 0.8451 - val_loss: 0.5224 - val_accuracy: 0.8299\n",
      "Epoch 26/50\n",
      "\n",
      "Epoch 00026: LearningRateScheduler reducing learning rate to 0.01778279410038923.\n",
      "1875/1875 [==============================] - 3s 1ms/step - loss: 0.4698 - accuracy: 0.8420 - val_loss: 0.5207 - val_accuracy: 0.8291\n",
      "Epoch 27/50\n",
      "\n",
      "Epoch 00027: LearningRateScheduler reducing learning rate to 0.0199526231496888.\n",
      "1875/1875 [==============================] - 3s 1ms/step - loss: 0.4761 - accuracy: 0.8353 - val_loss: 0.5805 - val_accuracy: 0.8153\n",
      "Epoch 28/50\n",
      "\n",
      "Epoch 00028: LearningRateScheduler reducing learning rate to 0.022387211385683402.\n",
      "1875/1875 [==============================] - 3s 1ms/step - loss: 0.5027 - accuracy: 0.8305 - val_loss: 0.5162 - val_accuracy: 0.8182\n",
      "Epoch 29/50\n",
      "\n",
      "Epoch 00029: LearningRateScheduler reducing learning rate to 0.025118864315095794.\n",
      "1875/1875 [==============================] - 2s 1ms/step - loss: 0.5088 - accuracy: 0.8321 - val_loss: 0.6123 - val_accuracy: 0.7971\n",
      "Epoch 30/50\n",
      "\n",
      "Epoch 00030: LearningRateScheduler reducing learning rate to 0.028183829312644536.\n",
      "1875/1875 [==============================] - 3s 1ms/step - loss: 0.5825 - accuracy: 0.8081 - val_loss: 0.5742 - val_accuracy: 0.8072\n",
      "Epoch 31/50\n",
      "\n",
      "Epoch 00031: LearningRateScheduler reducing learning rate to 0.03162277660168379.\n",
      "1875/1875 [==============================] - 3s 1ms/step - loss: 0.5896 - accuracy: 0.8052 - val_loss: 0.6193 - val_accuracy: 0.7997\n",
      "Epoch 32/50\n",
      "\n",
      "Epoch 00032: LearningRateScheduler reducing learning rate to 0.03548133892335755.\n",
      "1875/1875 [==============================] - 3s 1ms/step - loss: 0.7237 - accuracy: 0.7650 - val_loss: 0.6738 - val_accuracy: 0.7954\n",
      "Epoch 33/50\n",
      "\n",
      "Epoch 00033: LearningRateScheduler reducing learning rate to 0.039810717055349734.\n",
      "1875/1875 [==============================] - 3s 1ms/step - loss: 0.7200 - accuracy: 0.7659 - val_loss: 0.8263 - val_accuracy: 0.7341\n",
      "Epoch 34/50\n",
      "\n",
      "Epoch 00034: LearningRateScheduler reducing learning rate to 0.04466835921509631.\n",
      "1875/1875 [==============================] - 3s 1ms/step - loss: 0.8670 - accuracy: 0.6758 - val_loss: 0.9904 - val_accuracy: 0.6201\n",
      "Epoch 35/50\n",
      "\n",
      "Epoch 00035: LearningRateScheduler reducing learning rate to 0.05011872336272723.\n",
      "1875/1875 [==============================] - 2s 1ms/step - loss: 0.9695 - accuracy: 0.6248 - val_loss: 0.9757 - val_accuracy: 0.5946\n",
      "Epoch 36/50\n",
      "\n",
      "Epoch 00036: LearningRateScheduler reducing learning rate to 0.05623413251903491.\n",
      "1875/1875 [==============================] - 3s 1ms/step - loss: 1.0807 - accuracy: 0.5660 - val_loss: 1.0989 - val_accuracy: 0.5859\n",
      "Epoch 37/50\n",
      "\n",
      "Epoch 00037: LearningRateScheduler reducing learning rate to 0.06309573444801933.\n",
      "1875/1875 [==============================] - 3s 1ms/step - loss: 1.1462 - accuracy: 0.5400 - val_loss: 1.2867 - val_accuracy: 0.4525\n",
      "Epoch 38/50\n",
      "\n",
      "Epoch 00038: LearningRateScheduler reducing learning rate to 0.07079457843841382.\n",
      "1875/1875 [==============================] - 3s 1ms/step - loss: 1.3347 - accuracy: 0.4297 - val_loss: 1.3489 - val_accuracy: 0.4333\n",
      "Epoch 39/50\n",
      "\n",
      "Epoch 00039: LearningRateScheduler reducing learning rate to 0.07943282347242814.\n",
      "1875/1875 [==============================] - 2s 1ms/step - loss: 1.4704 - accuracy: 0.3900 - val_loss: 1.7445 - val_accuracy: 0.1998\n",
      "Epoch 40/50\n",
      "\n",
      "Epoch 00040: LearningRateScheduler reducing learning rate to 0.08912509381337455.\n",
      "1875/1875 [==============================] - 3s 1ms/step - loss: 1.7379 - accuracy: 0.1972 - val_loss: 1.7690 - val_accuracy: 0.1998\n",
      "Epoch 41/50\n",
      "\n",
      "Epoch 00041: LearningRateScheduler reducing learning rate to 0.1.\n",
      "1875/1875 [==============================] - 3s 1ms/step - loss: 1.7610 - accuracy: 0.1970 - val_loss: 1.7718 - val_accuracy: 0.1998\n",
      "Epoch 42/50\n",
      "\n",
      "Epoch 00042: LearningRateScheduler reducing learning rate to 0.1122018454301963.\n",
      "1875/1875 [==============================] - 3s 1ms/step - loss: 1.7642 - accuracy: 0.1932 - val_loss: 1.7695 - val_accuracy: 0.1978\n",
      "Epoch 43/50\n",
      "\n",
      "Epoch 00043: LearningRateScheduler reducing learning rate to 0.12589254117941676.\n",
      "1875/1875 [==============================] - 3s 1ms/step - loss: 1.7612 - accuracy: 0.2020 - val_loss: 1.7768 - val_accuracy: 0.1895\n",
      "Epoch 44/50\n",
      "\n",
      "Epoch 00044: LearningRateScheduler reducing learning rate to 0.1412537544622754.\n",
      "1875/1875 [==============================] - 3s 1ms/step - loss: 1.7682 - accuracy: 0.2002 - val_loss: 1.7690 - val_accuracy: 0.2000\n",
      "Epoch 45/50\n",
      "\n",
      "Epoch 00045: LearningRateScheduler reducing learning rate to 0.15848931924611143.\n",
      "1875/1875 [==============================] - 3s 1ms/step - loss: 1.7715 - accuracy: 0.1988 - val_loss: 1.7486 - val_accuracy: 0.1978\n",
      "Epoch 46/50\n",
      "\n",
      "Epoch 00046: LearningRateScheduler reducing learning rate to 0.1778279410038923.\n",
      "1875/1875 [==============================] - 3s 1ms/step - loss: 1.7773 - accuracy: 0.1956 - val_loss: 1.7638 - val_accuracy: 0.1999\n",
      "Epoch 47/50\n",
      "\n",
      "Epoch 00047: LearningRateScheduler reducing learning rate to 0.1995262314968879.\n",
      "1875/1875 [==============================] - 3s 1ms/step - loss: 1.7838 - accuracy: 0.1949 - val_loss: 1.7611 - val_accuracy: 0.1999\n",
      "Epoch 48/50\n",
      "\n",
      "Epoch 00048: LearningRateScheduler reducing learning rate to 0.223872113856834.\n",
      "1875/1875 [==============================] - 3s 1ms/step - loss: 1.7911 - accuracy: 0.1966 - val_loss: 1.7624 - val_accuracy: 0.1998\n",
      "Epoch 49/50\n",
      "\n",
      "Epoch 00049: LearningRateScheduler reducing learning rate to 0.25118864315095796.\n",
      "1875/1875 [==============================] - 3s 1ms/step - loss: 1.7907 - accuracy: 0.1961 - val_loss: 1.7960 - val_accuracy: 0.2000\n",
      "Epoch 50/50\n",
      "\n",
      "Epoch 00050: LearningRateScheduler reducing learning rate to 0.2818382931264455.\n",
      "1875/1875 [==============================] - 3s 1ms/step - loss: 1.7946 - accuracy: 0.1955 - val_loss: 1.7685 - val_accuracy: 0.1984\n",
      "313/313 [==============================] - 0s 908us/step - loss: 1.7685 - accuracy: 0.1984\n"
     ]
    },
    {
     "data": {
      "text/plain": [
       "[1.7685388326644897, 0.19840000569820404]"
      ]
     },
     "execution_count": 67,
     "metadata": {},
     "output_type": "execute_result"
    }
   ],
   "source": [
    "tf.random.set_seed(42)\n",
    "\n",
    "## Build Model\n",
    "mc_model = keras.models.Sequential([\n",
    "    keras.layers.Flatten(input_shape=(28, 28)),\n",
    "    keras.layers.Dense(10, activation=\"relu\"),\n",
    "    keras.layers.Dense(10, activation=\"relu\"),\n",
    "    keras.layers.Dense(10, activation=\"softmax\")\n",
    "])\n",
    "\n",
    "## Compile Model\n",
    "mc_model.compile(loss=keras.losses.sparse_categorical_crossentropy,\n",
    "                optimizer=keras.optimizers.Adam(lr=0.001),\n",
    "                metrics=[\"accuracy\"])\n",
    "\n",
    "## Learning rate scheduler\n",
    "lr_scheduler = keras.callbacks.LearningRateScheduler(lambda epoch: 1e-3 * 10**(epoch/20), verbose=1)\n",
    "\n",
    "## Fit model\n",
    "history_mc = mc_model.fit(X_train_norm, \n",
    "                          y_train, \n",
    "                          epochs=50,\n",
    "                          validation_data=(X_test_norm, y_test),\n",
    "                         callbacks=[lr_scheduler])\n",
    "\n",
    "mc_model.evaluate(X_test_norm, y_test)"
   ]
  },
  {
   "cell_type": "code",
   "execution_count": 68,
   "id": "12280263",
   "metadata": {},
   "outputs": [
    {
     "data": {
      "image/png": "[encoded data removed]",
      "text/plain": [
       "<Figure size 1008x432 with 2 Axes>"
      ]
     },
     "metadata": {
      "needs_background": "light"
     },
     "output_type": "display_data"
    }
   ],
   "source": [
    "history_df = pd.DataFrame(history_mc.history)\n",
    "\n",
    "figs, axes = plt.subplots(1, 2, figsize=(14, 6))\n",
    "history_df.plot(ax=axes[0])\n",
    "plt.semilogx(history_df[\"lr\"], history_df[\"loss\"])\n",
    "plt.show()"
   ]
  },
  {
   "cell_type": "code",
   "execution_count": 93,
   "id": "857024f0",
   "metadata": {},
   "outputs": [
    {
     "name": "stdout",
     "output_type": "stream",
     "text": [
      "Epoch 1/30\n",
      "1875/1875 [==============================] - 2s 801us/step - loss: 1.0870 - accuracy: 0.6025 - val_loss: 0.5048 - val_accuracy: 0.8237\n",
      "Epoch 2/30\n",
      "1875/1875 [==============================] - 2s 820us/step - loss: 0.4613 - accuracy: 0.8371 - val_loss: 0.5208 - val_accuracy: 0.8253\n",
      "Epoch 3/30\n",
      "1875/1875 [==============================] - 2s 945us/step - loss: 0.4341 - accuracy: 0.8474 - val_loss: 0.4625 - val_accuracy: 0.8366\n",
      "Epoch 4/30\n",
      "1875/1875 [==============================] - 2s 931us/step - loss: 0.4116 - accuracy: 0.8567 - val_loss: 0.4497 - val_accuracy: 0.8394\n",
      "Epoch 5/30\n",
      "1875/1875 [==============================] - 2s 839us/step - loss: 0.4049 - accuracy: 0.8580 - val_loss: 0.4701 - val_accuracy: 0.8359\n",
      "Epoch 6/30\n",
      "1875/1875 [==============================] - 2s 814us/step - loss: 0.4004 - accuracy: 0.8577 - val_loss: 0.4585 - val_accuracy: 0.8366\n",
      "Epoch 7/30\n",
      "1875/1875 [==============================] - 1s 779us/step - loss: 0.3829 - accuracy: 0.8642 - val_loss: 0.4507 - val_accuracy: 0.8398\n",
      "Epoch 8/30\n",
      "1875/1875 [==============================] - 1s 786us/step - loss: 0.3830 - accuracy: 0.8642 - val_loss: 0.4379 - val_accuracy: 0.8472\n",
      "Epoch 9/30\n",
      "1875/1875 [==============================] - 2s 823us/step - loss: 0.3838 - accuracy: 0.8630 - val_loss: 0.4238 - val_accuracy: 0.8523\n",
      "Epoch 10/30\n",
      "1875/1875 [==============================] - 2s 819us/step - loss: 0.3699 - accuracy: 0.8665 - val_loss: 0.4222 - val_accuracy: 0.8513\n",
      "Epoch 11/30\n",
      "1875/1875 [==============================] - 2s 827us/step - loss: 0.3674 - accuracy: 0.8689 - val_loss: 0.4173 - val_accuracy: 0.8516\n",
      "Epoch 12/30\n",
      "1875/1875 [==============================] - 2s 891us/step - loss: 0.3659 - accuracy: 0.8686 - val_loss: 0.4187 - val_accuracy: 0.8518\n",
      "Epoch 13/30\n",
      "1875/1875 [==============================] - 2s 906us/step - loss: 0.3608 - accuracy: 0.8705 - val_loss: 0.4281 - val_accuracy: 0.8424\n",
      "Epoch 14/30\n",
      "1875/1875 [==============================] - 2s 876us/step - loss: 0.3598 - accuracy: 0.8712 - val_loss: 0.4236 - val_accuracy: 0.8499\n",
      "Epoch 15/30\n",
      "1875/1875 [==============================] - 2s 835us/step - loss: 0.3596 - accuracy: 0.8712 - val_loss: 0.4153 - val_accuracy: 0.8510\n",
      "Epoch 16/30\n",
      "1875/1875 [==============================] - 2s 818us/step - loss: 0.3536 - accuracy: 0.8733 - val_loss: 0.4319 - val_accuracy: 0.8471\n",
      "Epoch 17/30\n",
      "1875/1875 [==============================] - 1s 788us/step - loss: 0.3488 - accuracy: 0.8758 - val_loss: 0.4219 - val_accuracy: 0.8503\n",
      "Epoch 18/30\n",
      "1875/1875 [==============================] - 1s 790us/step - loss: 0.3479 - accuracy: 0.8738 - val_loss: 0.4067 - val_accuracy: 0.8555\n",
      "Epoch 19/30\n",
      "1875/1875 [==============================] - 2s 834us/step - loss: 0.3486 - accuracy: 0.8753 - val_loss: 0.4305 - val_accuracy: 0.8414\n",
      "Epoch 20/30\n",
      "1875/1875 [==============================] - 1s 799us/step - loss: 0.3487 - accuracy: 0.8747 - val_loss: 0.4059 - val_accuracy: 0.8554\n",
      "Epoch 21/30\n",
      "1875/1875 [==============================] - 1s 775us/step - loss: 0.3412 - accuracy: 0.8770 - val_loss: 0.4047 - val_accuracy: 0.8567\n",
      "Epoch 22/30\n",
      "1875/1875 [==============================] - 2s 831us/step - loss: 0.3441 - accuracy: 0.8750 - val_loss: 0.4160 - val_accuracy: 0.8527\n",
      "Epoch 23/30\n",
      "1875/1875 [==============================] - 2s 874us/step - loss: 0.3402 - accuracy: 0.8765 - val_loss: 0.4185 - val_accuracy: 0.8537\n",
      "Epoch 24/30\n",
      "1875/1875 [==============================] - 2s 876us/step - loss: 0.3362 - accuracy: 0.8748 - val_loss: 0.4321 - val_accuracy: 0.8478\n",
      "Epoch 25/30\n",
      "1875/1875 [==============================] - 2s 856us/step - loss: 0.3367 - accuracy: 0.8781 - val_loss: 0.4244 - val_accuracy: 0.8496\n",
      "Epoch 26/30\n",
      "1875/1875 [==============================] - 2s 818us/step - loss: 0.3395 - accuracy: 0.8771 - val_loss: 0.4066 - val_accuracy: 0.8543\n",
      "Epoch 27/30\n",
      "1875/1875 [==============================] - 1s 798us/step - loss: 0.3343 - accuracy: 0.8776 - val_loss: 0.4184 - val_accuracy: 0.8554\n",
      "Epoch 28/30\n",
      "1875/1875 [==============================] - 1s 775us/step - loss: 0.3332 - accuracy: 0.8791 - val_loss: 0.4190 - val_accuracy: 0.8541\n",
      "Epoch 29/30\n",
      "1875/1875 [==============================] - 1s 788us/step - loss: 0.3332 - accuracy: 0.8782 - val_loss: 0.4229 - val_accuracy: 0.8542\n",
      "Epoch 30/30\n",
      "1875/1875 [==============================] - 2s 858us/step - loss: 0.3295 - accuracy: 0.8821 - val_loss: 0.4222 - val_accuracy: 0.8504\n"
     ]
    }
   ],
   "source": [
    "tf.random.set_seed(42)\n",
    "\n",
    "## Build Model\n",
    "mc_model = keras.models.Sequential([\n",
    "    keras.layers.Flatten(input_shape=(28, 28)),\n",
    "    keras.layers.Dense(10, activation=\"relu\"),\n",
    "    keras.layers.Dense(10, activation=\"relu\"),\n",
    "    keras.layers.Dense(10, activation=\"softmax\")\n",
    "])\n",
    "\n",
    "## Compile Model\n",
    "mc_model.compile(loss=keras.losses.sparse_categorical_crossentropy,\n",
    "                optimizer=keras.optimizers.Adam(lr=0.001),\n",
    "                metrics=[\"accuracy\"])\n",
    "\n",
    "## Fit model\n",
    "history_mc = mc_model.fit(X_train_norm, \n",
    "                          y_train, \n",
    "                          epochs=30,\n",
    "                          validation_data=(X_test_norm, y_test))"
   ]
  },
  {
   "cell_type": "code",
   "execution_count": 70,
   "id": "6599a9f4",
   "metadata": {},
   "outputs": [
    {
     "data": {
      "image/png": "[encoded data removed]",
      "text/plain": [
       "<Figure size 1080x1080 with 2 Axes>"
      ]
     },
     "metadata": {
      "needs_background": "light"
     },
     "output_type": "display_data"
    }
   ],
   "source": [
    "y_pred = np.argmax(mc_model.predict(X_test_norm), axis=1)\n",
    "make_confusion_matrix(y_test, y_pred, class_names, figsize=(15, 15))"
   ]
  },
  {
   "cell_type": "markdown",
   "id": "b958e396-8561-442f-903c-1f4d401619dc",
   "metadata": {},
   "source": [
    "From the confusion matrix, the class with the lowest accuracy is shirt (63.4%), and it's most often misclassified as t-shirts (12.8%) pullovers (10.6%). This is unsurprising, as they would have similar general shape. Similarly, pullovers and t-shirts are also often misclassified as shirts. "
   ]
  },
  {
   "cell_type": "code",
   "execution_count": 71,
   "id": "9b27a826",
   "metadata": {},
   "outputs": [],
   "source": [
    "def plot_random_image(model, images, true_labels, classes):\n",
    "    \n",
    "    ## Set up random integers\n",
    "    i = random.randint(0, len(images))\n",
    "    \n",
    "    ## Create predictions and targets\n",
    "    target_image = images[i]\n",
    "    pred_prob = model.predict(target_image.reshape(1, 28, 28))\n",
    "    pred_label = classes[np.argmax(pred_prob)]\n",
    "    true_label = classes[true_labels[i]]\n",
    "    \n",
    "    ## Plot the images\n",
    "    plt.imshow(target_image, cmap=\"binary\")\n",
    "    \n",
    "    ## Change the color of title depending on predictions is right or wrong\n",
    "    if pred_label == true_label:\n",
    "        color = \"green\"\n",
    "    else:\n",
    "        color = \"red\"\n",
    "\n",
    "    plt.title(f\"True Label: {true_label}\")\n",
    "    plt.xlabel(f\"Predicted: {100*tf.reduce_max(pred_prob):2.0f} % - {pred_label}\", color=color)"
   ]
  },
  {
   "cell_type": "code",
   "execution_count": 72,
   "id": "33637890",
   "metadata": {},
   "outputs": [
    {
     "data": {
      "image/png": "[encoded data removed]",
      "text/plain": [
       "<Figure size 432x288 with 1 Axes>"
      ]
     },
     "metadata": {
      "needs_background": "light"
     },
     "output_type": "display_data"
    }
   ],
   "source": [
    "plot_random_image(model=mc_model,\n",
    "                 images=X_test,\n",
    "                 true_labels=y_test,\n",
    "                 classes=class_names)"
   ]
  },
  {
   "cell_type": "markdown",
   "id": "148cf221",
   "metadata": {},
   "source": [
    "## What patterns is our model learning?"
   ]
  },
  {
   "cell_type": "markdown",
   "id": "e6eab9e5-9e12-44eb-a9b5-41c235f99f98",
   "metadata": {},
   "source": [
    "We can inspect the parameters that have been trained in our network with the `layers` command."
   ]
  },
  {
   "cell_type": "code",
   "execution_count": 73,
   "id": "df238de2",
   "metadata": {},
   "outputs": [
    {
     "data": {
      "text/plain": [
       "[<tensorflow.python.keras.layers.core.Flatten at 0x2b71264c908>,\n",
       " <tensorflow.python.keras.layers.core.Dense at 0x2b712636108>,\n",
       " <tensorflow.python.keras.layers.core.Dense at 0x2b712636988>,\n",
       " <tensorflow.python.keras.layers.core.Dense at 0x2b712635088>]"
      ]
     },
     "execution_count": 73,
     "metadata": {},
     "output_type": "execute_result"
    }
   ],
   "source": [
    "mc_model.layers"
   ]
  },
  {
   "cell_type": "code",
   "execution_count": 74,
   "id": "9b55f29e",
   "metadata": {},
   "outputs": [
    {
     "data": {
      "text/plain": [
       "(array([[ 0.02861048,  0.49554217, -0.64718205, ..., -0.4499592 ,\n",
       "          0.18077745,  0.05632136],\n",
       "        [-0.3776146 , -0.63613826, -0.5058233 , ..., -0.6197428 ,\n",
       "          0.74561316,  0.19173424],\n",
       "        [-0.3726377 , -0.4785497 , -0.9077946 , ..., -0.91267276,\n",
       "          0.7577944 , -0.3874814 ],\n",
       "        ...,\n",
       "        [ 0.08222803, -0.73778814, -0.13742545, ...,  0.1036496 ,\n",
       "          0.21433938, -0.05833107],\n",
       "        [-0.08068415, -0.67145246, -0.53709954, ...,  0.76555324,\n",
       "         -0.06684867,  0.03891557],\n",
       "        [ 0.23210353, -0.6020935 , -0.08204629, ...,  0.00557582,\n",
       "          0.16268663, -0.39244318]], dtype=float32),\n",
       " (784, 10))"
      ]
     },
     "execution_count": 74,
     "metadata": {},
     "output_type": "execute_result"
    }
   ],
   "source": [
    "weights, biases = mc_model.layers[1].get_weights()\n",
    "weights, weights.shape"
   ]
  },
  {
   "cell_type": "markdown",
   "id": "08a5636a-c42b-4326-8ead-39b9e554e8c7",
   "metadata": {},
   "source": [
    "### 4. Convolutional Neural Network (CNN)"
   ]
  },
  {
   "cell_type": "markdown",
   "id": "d36e3bc0-086e-4e08-974a-42d57a1fc2fa",
   "metadata": {},
   "source": [
    "In image classification, it's very common to use a type of neural network known as the Convolutional Neural Network (CNN). In fact, CNN is used in a lot of tasks related to computer vision. Basic structure of a CNN is composed of layers of convolution and pooling (sort of like image compression). These layers perform feature extraction to get the important features from images. Doing so also reduce the size of the data. We'll also need to flatten the array so that the data can be connected to dense layers. A simple depiction is as follows:"
   ]
  },
  {
   "cell_type": "markdown",
   "id": "fd12ade0-74dd-4441-a279-769ffe81fd8a",
   "metadata": {},
   "source": [
    "![](https://raw.githubusercontent.com/aamini/introtodeeplearning/master/lab2/img/convnet_fig.png \"CNN Architecture for MNIST Classification\")\n",
    "Source: MIT-IntroIntoDeepLearning GitHub Repository (https://raw.githubusercontent.com/aamini/introtodeeplearning/master/lab2/img/convnet_fig.png)"
   ]
  },
  {
   "cell_type": "markdown",
   "id": "1b2965c8-6ec6-4a6b-95ab-23e14d00b8f3",
   "metadata": {},
   "source": [
    "For CNN, we need image data with four dimensions, therefore we add one with the `np.expand_dims()` function"
   ]
  },
  {
   "cell_type": "code",
   "execution_count": 89,
   "id": "73944008-533b-458d-84ab-65ff564af7d2",
   "metadata": {},
   "outputs": [],
   "source": [
    "X_train_cnn = np.expand_dims(X_train_norm, axis=-1)\n",
    "X_test_cnn = np.expand_dims(X_test_norm, axis=-1)"
   ]
  },
  {
   "cell_type": "code",
   "execution_count": 90,
   "id": "05165495-dd8d-4e78-bdc3-590c5fd26dc1",
   "metadata": {},
   "outputs": [],
   "source": [
    "cnn_model = tf.keras.Sequential([\n",
    "\n",
    "        ## The first convolutional layer\n",
    "        tf.keras.layers.Conv2D(filters=24, kernel_size=(3, 3), activation='relu'), \n",
    "\n",
    "        # The first max pooling layer\n",
    "        tf.keras.layers.MaxPool2D(pool_size=(2, 2)),\n",
    "\n",
    "        # The second convolutional layer\n",
    "        tf.keras.layers.Conv2D(filters=36, kernel_size=(3, 3), activation=\"relu\"),\n",
    "\n",
    "        # The second max pooling layer\n",
    "        tf.keras.layers.MaxPool2D(pool_size=(2, 2)),\n",
    "\n",
    "        tf.keras.layers.Flatten(),\n",
    "        tf.keras.layers.Dense(128, activation=\"relu\"),\n",
    "        keras.layers.Dense(10, activation=\"softmax\")\n",
    "    ])"
   ]
  },
  {
   "cell_type": "code",
   "execution_count": 91,
   "id": "b11d3d4e-96f1-4aff-bf9d-1802b0598c9d",
   "metadata": {},
   "outputs": [
    {
     "name": "stdout",
     "output_type": "stream",
     "text": [
      "Epoch 1/30\n",
      "1875/1875 [==============================] - 14s 7ms/step - loss: 0.6565 - accuracy: 0.7649\n",
      "Epoch 2/30\n",
      "1875/1875 [==============================] - 14s 8ms/step - loss: 0.3249 - accuracy: 0.8806\n",
      "Epoch 3/30\n",
      "1875/1875 [==============================] - 15s 8ms/step - loss: 0.2844 - accuracy: 0.8940\n",
      "Epoch 4/30\n",
      "1875/1875 [==============================] - 16s 9ms/step - loss: 0.2473 - accuracy: 0.9090\n",
      "Epoch 5/30\n",
      "1875/1875 [==============================] - 16s 9ms/step - loss: 0.2185 - accuracy: 0.9178\n",
      "Epoch 6/30\n",
      "1875/1875 [==============================] - 16s 9ms/step - loss: 0.1983 - accuracy: 0.9256\n",
      "Epoch 7/30\n",
      "1875/1875 [==============================] - 16s 9ms/step - loss: 0.1752 - accuracy: 0.9344\n",
      "Epoch 8/30\n",
      "1875/1875 [==============================] - 17s 9ms/step - loss: 0.1583 - accuracy: 0.9412\n",
      "Epoch 9/30\n",
      "1875/1875 [==============================] - 17s 9ms/step - loss: 0.1477 - accuracy: 0.9431\n",
      "Epoch 10/30\n",
      "1875/1875 [==============================] - 17s 9ms/step - loss: 0.1351 - accuracy: 0.9475\n",
      "Epoch 11/30\n",
      "1875/1875 [==============================] - 17s 9ms/step - loss: 0.1198 - accuracy: 0.9533\n",
      "Epoch 12/30\n",
      "1875/1875 [==============================] - 16s 9ms/step - loss: 0.1053 - accuracy: 0.9601\n",
      "Epoch 13/30\n",
      "1875/1875 [==============================] - 17s 9ms/step - loss: 0.0983 - accuracy: 0.9633\n",
      "Epoch 14/30\n",
      "1875/1875 [==============================] - 16s 9ms/step - loss: 0.0874 - accuracy: 0.9668\n",
      "Epoch 15/30\n",
      "1875/1875 [==============================] - 17s 9ms/step - loss: 0.0791 - accuracy: 0.9707\n",
      "Epoch 16/30\n",
      "1875/1875 [==============================] - 17s 9ms/step - loss: 0.0716 - accuracy: 0.9734\n",
      "Epoch 17/30\n",
      "1875/1875 [==============================] - 17s 9ms/step - loss: 0.0634 - accuracy: 0.9765\n",
      "Epoch 18/30\n",
      "1875/1875 [==============================] - 16s 9ms/step - loss: 0.0604 - accuracy: 0.9776\n",
      "Epoch 19/30\n",
      "1875/1875 [==============================] - 20s 11ms/step - loss: 0.0547 - accuracy: 0.9802\n",
      "Epoch 20/30\n",
      "1875/1875 [==============================] - 19s 10ms/step - loss: 0.0498 - accuracy: 0.9818\n",
      "Epoch 21/30\n",
      "1875/1875 [==============================] - 34s 18ms/step - loss: 0.0465 - accuracy: 0.9822\n",
      "Epoch 22/30\n",
      "1875/1875 [==============================] - 17s 9ms/step - loss: 0.0402 - accuracy: 0.9847\n",
      "Epoch 23/30\n",
      "1875/1875 [==============================] - 16s 9ms/step - loss: 0.0400 - accuracy: 0.9846\n",
      "Epoch 24/30\n",
      "1875/1875 [==============================] - 16s 9ms/step - loss: 0.0374 - accuracy: 0.9861\n",
      "Epoch 25/30\n",
      "1875/1875 [==============================] - 16s 9ms/step - loss: 0.0344 - accuracy: 0.9881\n",
      "Epoch 26/30\n",
      "1875/1875 [==============================] - 16s 9ms/step - loss: 0.0289 - accuracy: 0.9898\n",
      "Epoch 27/30\n",
      "1875/1875 [==============================] - 16s 9ms/step - loss: 0.0306 - accuracy: 0.9890\n",
      "Epoch 28/30\n",
      "1875/1875 [==============================] - 16s 9ms/step - loss: 0.0269 - accuracy: 0.9905\n",
      "Epoch 29/30\n",
      "1875/1875 [==============================] - 16s 9ms/step - loss: 0.0282 - accuracy: 0.9892\n",
      "Epoch 30/30\n",
      "1875/1875 [==============================] - 16s 9ms/step - loss: 0.0240 - accuracy: 0.9916\n"
     ]
    }
   ],
   "source": [
    "cnn_model.compile(optimizer=keras.optimizers.Adam(), \n",
    "                  loss=keras.losses.sparse_categorical_crossentropy, \n",
    "                  metrics=['accuracy'])\n",
    "                  \n",
    "history = cnn_model.fit(X_train_cnn, \n",
    "                        y_train, \n",
    "                        epochs=30)"
   ]
  },
  {
   "cell_type": "code",
   "execution_count": 101,
   "id": "dde493b3-5068-4924-babb-5b776bf01768",
   "metadata": {},
   "outputs": [
    {
     "name": "stdout",
     "output_type": "stream",
     "text": [
      "313/313 [==============================] - 1s 3ms/step - loss: 0.6463 - accuracy: 0.9040\n"
     ]
    },
    {
     "data": {
      "text/plain": [
       "[0.6462550163269043, 0.9039999842643738]"
      ]
     },
     "execution_count": 101,
     "metadata": {},
     "output_type": "execute_result"
    }
   ],
   "source": [
    "cnn_model.evaluate(X_test_cnn, y_test)"
   ]
  },
  {
   "cell_type": "code",
   "execution_count": 95,
   "id": "dd17e4b9-6770-4e24-ba43-5823047b9d8e",
   "metadata": {},
   "outputs": [
    {
     "name": "stdout",
     "output_type": "stream",
     "text": [
      "313/313 [==============================] - 0s 446us/step - loss: 0.4222 - accuracy: 0.8504\n"
     ]
    },
    {
     "data": {
      "text/plain": [
       "[0.4221572279930115, 0.8503999710083008]"
      ]
     },
     "execution_count": 95,
     "metadata": {},
     "output_type": "execute_result"
    }
   ],
   "source": [
    "mc_model.evaluate(X_test_norm, y_test)"
   ]
  },
  {
   "cell_type": "markdown",
   "id": "dc26f9f4-a31b-44da-9e99-cf56e4e346a8",
   "metadata": {},
   "source": [
    "Using convolutional network improved both training and testing accuracy, In more complicated applications imvolving images, the advantage of using CNN will become even more prominent. The testing accuracy (\\~90%) is lower than training accuracy (\\~99%). This is known as over-fitting."
   ]
  },
  {
   "cell_type": "code",
   "execution_count": 99,
   "id": "c73af267-4981-4522-a168-1108a2242d47",
   "metadata": {},
   "outputs": [],
   "source": [
    "cnn_model2 = tf.keras.Sequential([\n",
    "\n",
    "        ## The first convolutional layer\n",
    "        tf.keras.layers.Conv2D(filters=24, kernel_size=(3, 3), activation='relu'), \n",
    "\n",
    "        # The first max pooling layer\n",
    "        tf.keras.layers.MaxPool2D(pool_size=(2, 2)),\n",
    "        \n",
    "        tf.keras.layers.Dropout(0.4),         ### New code\n",
    "\n",
    "        # The second convolutional layer\n",
    "        tf.keras.layers.Conv2D(filters=36, kernel_size=(3, 3), activation=\"relu\"),\n",
    "\n",
    "        # The second max pooling layer\n",
    "        tf.keras.layers.MaxPool2D(pool_size=(2, 2)),\n",
    "    \n",
    "        tf.keras.layers.Dropout(0.4),        ### New code\n",
    "\n",
    "        tf.keras.layers.Flatten(),\n",
    "        tf.keras.layers.Dense(128, activation=\"relu\"),\n",
    "        keras.layers.Dense(10, activation=\"softmax\")\n",
    "    ])"
   ]
  },
  {
   "cell_type": "code",
   "execution_count": 100,
   "id": "2744400b-919c-4862-ab69-c78a1baff264",
   "metadata": {},
   "outputs": [
    {
     "name": "stdout",
     "output_type": "stream",
     "text": [
      "Epoch 1/30\n",
      "1875/1875 [==============================] - 16s 8ms/step - loss: 0.8080 - accuracy: 0.7000\n",
      "Epoch 2/30\n",
      "1875/1875 [==============================] - 16s 8ms/step - loss: 0.4278 - accuracy: 0.8401\n",
      "Epoch 3/30\n",
      "1875/1875 [==============================] - 16s 9ms/step - loss: 0.3795 - accuracy: 0.8593\n",
      "Epoch 4/30\n",
      "1875/1875 [==============================] - 17s 9ms/step - loss: 0.3444 - accuracy: 0.8724\n",
      "Epoch 5/30\n",
      "1875/1875 [==============================] - 17s 9ms/step - loss: 0.3279 - accuracy: 0.8803\n",
      "Epoch 6/30\n",
      "1875/1875 [==============================] - 18s 9ms/step - loss: 0.3148 - accuracy: 0.8833\n",
      "Epoch 7/30\n",
      "1875/1875 [==============================] - 18s 10ms/step - loss: 0.2934 - accuracy: 0.8901\n",
      "Epoch 8/30\n",
      "1875/1875 [==============================] - 18s 10ms/step - loss: 0.2871 - accuracy: 0.8924\n",
      "Epoch 9/30\n",
      "1875/1875 [==============================] - 18s 9ms/step - loss: 0.2860 - accuracy: 0.8926\n",
      "Epoch 10/30\n",
      "1875/1875 [==============================] - 18s 10ms/step - loss: 0.2736 - accuracy: 0.8984\n",
      "Epoch 11/30\n",
      "1875/1875 [==============================] - 18s 10ms/step - loss: 0.2677 - accuracy: 0.8993\n",
      "Epoch 12/30\n",
      "1875/1875 [==============================] - 19s 10ms/step - loss: 0.2627 - accuracy: 0.9018\n",
      "Epoch 13/30\n",
      "1875/1875 [==============================] - 18s 9ms/step - loss: 0.2600 - accuracy: 0.9010\n",
      "Epoch 14/30\n",
      "1875/1875 [==============================] - 18s 10ms/step - loss: 0.2545 - accuracy: 0.9047\n",
      "Epoch 15/30\n",
      "1875/1875 [==============================] - 18s 9ms/step - loss: 0.2549 - accuracy: 0.9033\n",
      "Epoch 16/30\n",
      "1875/1875 [==============================] - 18s 10ms/step - loss: 0.2495 - accuracy: 0.9073\n",
      "Epoch 17/30\n",
      "1875/1875 [==============================] - 18s 10ms/step - loss: 0.2487 - accuracy: 0.9054\n",
      "Epoch 18/30\n",
      "1875/1875 [==============================] - 18s 10ms/step - loss: 0.2435 - accuracy: 0.9086\n",
      "Epoch 19/30\n",
      "1875/1875 [==============================] - 18s 10ms/step - loss: 0.2416 - accuracy: 0.9106\n",
      "Epoch 20/30\n",
      "1875/1875 [==============================] - 18s 9ms/step - loss: 0.2377 - accuracy: 0.9096\n",
      "Epoch 21/30\n",
      "1875/1875 [==============================] - 18s 9ms/step - loss: 0.2351 - accuracy: 0.9108\n",
      "Epoch 22/30\n",
      "1875/1875 [==============================] - 18s 9ms/step - loss: 0.2342 - accuracy: 0.9122\n",
      "Epoch 23/30\n",
      "1875/1875 [==============================] - 18s 9ms/step - loss: 0.2276 - accuracy: 0.9122\n",
      "Epoch 24/30\n",
      "1875/1875 [==============================] - 18s 10ms/step - loss: 0.2306 - accuracy: 0.9128\n",
      "Epoch 25/30\n",
      "1875/1875 [==============================] - 18s 10ms/step - loss: 0.2290 - accuracy: 0.9128\n",
      "Epoch 26/30\n",
      "1875/1875 [==============================] - 18s 10ms/step - loss: 0.2249 - accuracy: 0.9143\n",
      "Epoch 27/30\n",
      "1875/1875 [==============================] - 18s 9ms/step - loss: 0.2244 - accuracy: 0.9142\n",
      "Epoch 28/30\n",
      "1875/1875 [==============================] - 18s 9ms/step - loss: 0.2211 - accuracy: 0.9154\n",
      "Epoch 29/30\n",
      "1875/1875 [==============================] - 18s 10ms/step - loss: 0.2217 - accuracy: 0.9147\n",
      "Epoch 30/30\n",
      "1875/1875 [==============================] - 18s 10ms/step - loss: 0.2224 - accuracy: 0.9145\n"
     ]
    }
   ],
   "source": [
    "cnn_model2.compile(optimizer=keras.optimizers.Adam(), \n",
    "                  loss=keras.losses.sparse_categorical_crossentropy, \n",
    "                  metrics=['accuracy'])\n",
    "                  \n",
    "history = cnn_model2.fit(X_train_cnn, \n",
    "                        y_train, \n",
    "                        epochs=30)"
   ]
  },
  {
   "cell_type": "code",
   "execution_count": 102,
   "id": "b40ace92-eec0-43a1-b4eb-be1d5db719b5",
   "metadata": {},
   "outputs": [
    {
     "name": "stdout",
     "output_type": "stream",
     "text": [
      "313/313 [==============================] - 1s 3ms/step - loss: 0.2328 - accuracy: 0.9160\n"
     ]
    },
    {
     "data": {
      "text/plain": [
       "[0.23280870914459229, 0.9160000085830688]"
      ]
     },
     "execution_count": 102,
     "metadata": {},
     "output_type": "execute_result"
    }
   ],
   "source": [
    "cnn_model2.evaluate(X_test_cnn, y_test)"
   ]
  },
  {
   "cell_type": "markdown",
   "id": "e01ab15e-b26a-426f-9d1a-9d37723b6b21",
   "metadata": {},
   "source": [
    "Although training accuracy decreased, the testing accuracy improved slightly. Dropout is one of many ways to deal with overfitting in neural networks. Try tweaking the parameters to further improve the accuracy!"
   ]
  },
  {
   "cell_type": "code",
   "execution_count": null,
   "id": "06ffa004-d11e-4a22-91b7-2c0f7add8f74",
   "metadata": {},
   "outputs": [],
   "source": []
  }
 ],
 "metadata": {
  "kernelspec": {
   "display_name": "Python 3",
   "language": "python",
   "name": "python3"
  },
  "language_info": {
   "codemirror_mode": {
    "name": "ipython",
    "version": 3
   },
   "file_extension": ".py",
   "mimetype": "text/x-python",
   "name": "python",
   "nbconvert_exporter": "python",
   "pygments_lexer": "ipython3",
   "version": "3.7.10"
  }
 },
 "nbformat": 4,
 "nbformat_minor": 5
}
